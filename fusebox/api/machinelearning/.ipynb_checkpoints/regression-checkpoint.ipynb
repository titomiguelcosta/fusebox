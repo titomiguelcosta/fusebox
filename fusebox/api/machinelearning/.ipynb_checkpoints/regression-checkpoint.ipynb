{
 "cells": [
  {
   "cell_type": "code",
   "execution_count": 24,
   "metadata": {},
   "outputs": [],
   "source": [
    "%matplotlib inline\n",
    "\n",
    "import numpy as np\n",
    "import pandas as pd\n",
    "\n",
    "from sklearn.model_selection import StratifiedShuffleSplit\n",
    "from sklearn.model_selection import train_test_split\n",
    "\n",
    "from sklearn.pipeline import Pipeline\n",
    "from sklearn.preprocessing import MinMaxScaler\n",
    "from sklearn.preprocessing import OneHotEncoder\n",
    "from sklearn.compose import ColumnTransformer\n",
    "\n",
    "from sklearn.metrics import mean_squared_error\n",
    "from sklearn.model_selection import cross_val_score\n",
    "\n",
    "import joblib"
   ]
  },
  {
   "cell_type": "code",
   "execution_count": 25,
   "metadata": {},
   "outputs": [],
   "source": [
    "data = pd.read_csv(\"fusebox.csv\")"
   ]
  },
  {
   "cell_type": "code",
   "execution_count": 26,
   "metadata": {},
   "outputs": [],
   "source": [
    "num_attrs = [\"time_signature\", \"danceability\", \"energy\", \"loudness\", \"valence\", \"tempo\", \"acousticness\", \"instrumentalness\"]\n",
    "cat_attrs = [\"key\"]\n",
    "\n",
    "num_pipeline = Pipeline([\n",
    "    (\"min_max\", MinMaxScaler())\n",
    "])\n",
    "\n",
    "pipeline = ColumnTransformer([\n",
    "    (\"num\", num_pipeline, num_attrs),\n",
    "    (\"cat\", OneHotEncoder(), cat_attrs),\n",
    "], remainder=\"drop\")"
   ]
  },
  {
   "cell_type": "code",
   "execution_count": 27,
   "metadata": {},
   "outputs": [],
   "source": [
    "# stratify test sample so it represents the full dataset\n",
    "split = StratifiedShuffleSplit(n_splits=1, test_size=0.2, random_state=42)\n",
    "for train_index, test_index in split.split(data, data[\"rate\"]):\n",
    "    strat_train_set = data.loc[train_index]\n",
    "    strat_test_set = data.loc[test_index]"
   ]
  },
  {
   "cell_type": "code",
   "execution_count": 28,
   "metadata": {},
   "outputs": [],
   "source": [
    "X_train = strat_train_set.drop(\"rate\", axis=1)\n",
    "X_test = strat_test_set.drop(\"rate\", axis=1)\n",
    "y_train = strat_train_set[\"rate\"].copy()\n",
    "y_test = strat_test_set[\"rate\"].copy()"
   ]
  },
  {
   "cell_type": "code",
   "execution_count": 29,
   "metadata": {},
   "outputs": [],
   "source": [
    "X_train_prepared = pipeline.fit_transform(X_train)\n",
    "\n",
    "joblib.dump(pipeline, \"pipeline.joblib\")\n",
    "\n",
    "X_test_prepared = pipeline.transform(X_test)"
   ]
  },
  {
   "cell_type": "code",
   "execution_count": 30,
   "metadata": {},
   "outputs": [
    {
     "data": {
      "text/plain": [
       "'test error: 1.75309, mean training error: 1.86119'"
      ]
     },
     "execution_count": 30,
     "metadata": {},
     "output_type": "execute_result"
    }
   ],
   "source": [
    "# linear regression model\n",
    "from sklearn.linear_model import LinearRegression\n",
    "\n",
    "linear_regression = LinearRegression()\n",
    "linear_regression.fit(X_train_prepared, y_train)\n",
    "\n",
    "# use test data to calculate error\n",
    "y_test_predictions = linear_regression.predict(X_test_prepared)\n",
    "\n",
    "test_error = np.sqrt(mean_squared_error(y_test, y_test_predictions))\n",
    "\n",
    "# create folds on the training data\n",
    "scores = cross_val_score(linear_regression, X_train_prepared, y_train, scoring=\"neg_mean_squared_error\", cv=10)\n",
    "pos_scores =  np.sqrt(-scores)\n",
    "mean_training_error = pos_scores.mean()\n",
    "\n",
    "\"test error: %.5f, mean training error: %.5f\" % (test_error, mean_training_error)"
   ]
  },
  {
   "cell_type": "code",
   "execution_count": 31,
   "metadata": {},
   "outputs": [
    {
     "data": {
      "text/plain": [
       "'test error: 2.37897, mean training error: 2.27865'"
      ]
     },
     "execution_count": 31,
     "metadata": {},
     "output_type": "execute_result"
    }
   ],
   "source": [
    "# decision tree model\n",
    "from sklearn.tree import DecisionTreeRegressor\n",
    "\n",
    "decision_tree = DecisionTreeRegressor()\n",
    "decision_tree.fit(X_train_prepared, y_train)\n",
    "\n",
    "y_test_predictions = decision_tree.predict(X_test_prepared)\n",
    "\n",
    "test_error = np.sqrt(mean_squared_error(y_test, y_test_predictions))\n",
    "\n",
    "# create folds on the training data\n",
    "scores = cross_val_score(decision_tree, X_train_prepared, y_train, scoring=\"neg_mean_squared_error\", cv=10)\n",
    "pos_scores =  np.sqrt(-scores)\n",
    "mean_training_error = pos_scores.mean()\n",
    "\n",
    "\"test error: %.5f, mean training error: %.5f\" % (test_error, mean_training_error)"
   ]
  },
  {
   "cell_type": "code",
   "execution_count": 32,
   "metadata": {},
   "outputs": [
    {
     "data": {
      "text/plain": [
       "'test error: 1.67094, mean training error: 1.71431'"
      ]
     },
     "execution_count": 32,
     "metadata": {},
     "output_type": "execute_result"
    }
   ],
   "source": [
    "# random forest model\n",
    "from sklearn.ensemble import RandomForestRegressor\n",
    "\n",
    "random_forest = RandomForestRegressor()\n",
    "random_forest.fit(X_train_prepared, y_train)\n",
    "\n",
    "y_test_predictions = random_forest.predict(X_test_prepared)\n",
    "\n",
    "test_error = np.sqrt(mean_squared_error(y_test, y_test_predictions))\n",
    "\n",
    "# create folds on the training data\n",
    "scores = cross_val_score(random_forest, X_train_prepared, y_train, scoring=\"neg_mean_squared_error\", cv=10)\n",
    "pos_scores =  np.sqrt(-scores)\n",
    "mean_training_error = pos_scores.mean()\n",
    "\n",
    "\"test error: %.5f, mean training error: %.5f\" % (test_error, mean_training_error)"
   ]
  },
  {
   "cell_type": "code",
   "execution_count": 33,
   "metadata": {},
   "outputs": [
    {
     "data": {
      "text/plain": [
       "'test error: 1.72084, mean training error: 1.91336'"
      ]
     },
     "execution_count": 33,
     "metadata": {},
     "output_type": "execute_result"
    }
   ],
   "source": [
    "from sklearn.neighbors import KNeighborsRegressor\n",
    "\n",
    "knn = KNeighborsRegressor(n_neighbors=7)\n",
    "knn.fit(X_train_prepared, y_train)\n",
    "\n",
    "y_test_predictions = knn.predict(X_test_prepared)\n",
    "\n",
    "test_error = np.sqrt(mean_squared_error(y_test, y_test_predictions))\n",
    "\n",
    "# create folds on the training data\n",
    "scores = cross_val_score(knn, X_train_prepared, y_train, scoring=\"neg_mean_squared_error\", cv=10)\n",
    "pos_scores =  np.sqrt(-scores)\n",
    "mean_training_error = pos_scores.mean()\n",
    "\n",
    "\"test error: %.5f, mean training error: %.5f\" % (test_error, mean_training_error)"
   ]
  },
  {
   "cell_type": "code",
   "execution_count": 34,
   "metadata": {},
   "outputs": [
    {
     "data": {
      "text/plain": [
       "['models/regression/knn.joblib']"
      ]
     },
     "execution_count": 34,
     "metadata": {},
     "output_type": "execute_result"
    }
   ],
   "source": [
    "joblib.dump(linear_regression, \"models/regression/linear_regression.joblib\")\n",
    "joblib.dump(decision_tree, \"models/regression/decision_tree.joblib\")\n",
    "joblib.dump(random_forest, \"models/regression/random_forest.joblib\")\n",
    "joblib.dump(knn, \"models/regression/knn.joblib\")"
   ]
  }
 ],
 "metadata": {
  "kernelspec": {
   "display_name": "Python 3",
   "language": "python",
   "name": "python3"
  },
  "language_info": {
   "codemirror_mode": {
    "name": "ipython",
    "version": 3
   },
   "file_extension": ".py",
   "mimetype": "text/x-python",
   "name": "python",
   "nbconvert_exporter": "python",
   "pygments_lexer": "ipython3",
   "version": "3.8.6"
  }
 },
 "nbformat": 4,
 "nbformat_minor": 1
}
