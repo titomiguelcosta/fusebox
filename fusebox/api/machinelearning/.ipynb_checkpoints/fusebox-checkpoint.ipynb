{
 "cells": [
  {
   "cell_type": "code",
   "execution_count": 64,
   "metadata": {},
   "outputs": [],
   "source": [
    "import numpy as np\n",
    "import pandas as pd\n",
    "\n",
    "from sklearn.model_selection import StratifiedShuffleSplit\n",
    "from sklearn.model_selection import train_test_split\n",
    "\n",
    "from sklearn.pipeline import Pipeline\n",
    "from sklearn.preprocessing import MinMaxScaler\n",
    "\n",
    "from sklearn.metrics import mean_squared_error\n",
    "\n",
    "import joblib"
   ]
  },
  {
   "cell_type": "code",
   "execution_count": 14,
   "metadata": {},
   "outputs": [],
   "source": [
    "data = pd.read_csv(\"fusebox.csv\")"
   ]
  },
  {
   "cell_type": "code",
   "execution_count": 16,
   "metadata": {},
   "outputs": [
    {
     "data": {
      "text/plain": [
       "5.0     68\n",
       "6.0     50\n",
       "4.0     45\n",
       "7.0     41\n",
       "8.0     39\n",
       "3.0     21\n",
       "9.0     17\n",
       "10.0     4\n",
       "2.0      3\n",
       "Name: rate, dtype: int64"
      ]
     },
     "execution_count": 16,
     "metadata": {},
     "output_type": "execute_result"
    }
   ],
   "source": [
    "data[\"rate\"].value_counts()"
   ]
  },
  {
   "cell_type": "code",
   "execution_count": 3,
   "metadata": {},
   "outputs": [
    {
     "data": {
      "text/html": [
       "<div>\n",
       "<style scoped>\n",
       "    .dataframe tbody tr th:only-of-type {\n",
       "        vertical-align: middle;\n",
       "    }\n",
       "\n",
       "    .dataframe tbody tr th {\n",
       "        vertical-align: top;\n",
       "    }\n",
       "\n",
       "    .dataframe thead th {\n",
       "        text-align: right;\n",
       "    }\n",
       "</style>\n",
       "<table border=\"1\" class=\"dataframe\">\n",
       "  <thead>\n",
       "    <tr style=\"text-align: right;\">\n",
       "      <th></th>\n",
       "      <th>id</th>\n",
       "      <th>artist</th>\n",
       "      <th>album</th>\n",
       "      <th>title</th>\n",
       "      <th>key</th>\n",
       "      <th>time_signature</th>\n",
       "      <th>danceability</th>\n",
       "      <th>energy</th>\n",
       "      <th>loudness</th>\n",
       "      <th>speechiness</th>\n",
       "      <th>acousticness</th>\n",
       "      <th>instrumentalness</th>\n",
       "      <th>liveness</th>\n",
       "      <th>valence</th>\n",
       "      <th>tempo</th>\n",
       "      <th>duration_ms</th>\n",
       "      <th>num_played</th>\n",
       "      <th>rate</th>\n",
       "    </tr>\n",
       "  </thead>\n",
       "  <tbody>\n",
       "    <tr>\n",
       "      <th>283</th>\n",
       "      <td>spotify:track:3SVAN3BRByDmHOhKyIDxfC</td>\n",
       "      <td>Radiohead</td>\n",
       "      <td>OK Computer</td>\n",
       "      <td>Karma Police</td>\n",
       "      <td>7</td>\n",
       "      <td>4</td>\n",
       "      <td>0.360</td>\n",
       "      <td>0.505</td>\n",
       "      <td>-9.129</td>\n",
       "      <td>0.0260</td>\n",
       "      <td>0.06260</td>\n",
       "      <td>0.000092</td>\n",
       "      <td>0.1720</td>\n",
       "      <td>0.317</td>\n",
       "      <td>74.807</td>\n",
       "      <td>264067.0</td>\n",
       "      <td>1</td>\n",
       "      <td>8.0</td>\n",
       "    </tr>\n",
       "    <tr>\n",
       "      <th>284</th>\n",
       "      <td>spotify:track:2a1iMaoWQ5MnvLFBDv4qkf</td>\n",
       "      <td>Radiohead</td>\n",
       "      <td>The Bends</td>\n",
       "      <td>High and Dry</td>\n",
       "      <td>4</td>\n",
       "      <td>4</td>\n",
       "      <td>0.419</td>\n",
       "      <td>0.383</td>\n",
       "      <td>-11.782</td>\n",
       "      <td>0.0256</td>\n",
       "      <td>0.07240</td>\n",
       "      <td>0.017600</td>\n",
       "      <td>0.0896</td>\n",
       "      <td>0.350</td>\n",
       "      <td>87.568</td>\n",
       "      <td>257480.0</td>\n",
       "      <td>1</td>\n",
       "      <td>8.0</td>\n",
       "    </tr>\n",
       "    <tr>\n",
       "      <th>285</th>\n",
       "      <td>spotify:track:1bSpwPhAxZwlR2enJJsv7U</td>\n",
       "      <td>Radiohead</td>\n",
       "      <td>OK Computer</td>\n",
       "      <td>No Surprises</td>\n",
       "      <td>5</td>\n",
       "      <td>4</td>\n",
       "      <td>0.255</td>\n",
       "      <td>0.393</td>\n",
       "      <td>-10.654</td>\n",
       "      <td>0.0278</td>\n",
       "      <td>0.05770</td>\n",
       "      <td>0.003610</td>\n",
       "      <td>0.1130</td>\n",
       "      <td>0.118</td>\n",
       "      <td>76.426</td>\n",
       "      <td>229120.0</td>\n",
       "      <td>1</td>\n",
       "      <td>9.0</td>\n",
       "    </tr>\n",
       "    <tr>\n",
       "      <th>286</th>\n",
       "      <td>spotify:track:73CKjW3vsUXRpy3NnX4H7F</td>\n",
       "      <td>Radiohead</td>\n",
       "      <td>The Bends</td>\n",
       "      <td>Fake Plastic Trees</td>\n",
       "      <td>2</td>\n",
       "      <td>4</td>\n",
       "      <td>0.463</td>\n",
       "      <td>0.229</td>\n",
       "      <td>-12.592</td>\n",
       "      <td>0.0297</td>\n",
       "      <td>0.16700</td>\n",
       "      <td>0.099700</td>\n",
       "      <td>0.2020</td>\n",
       "      <td>0.135</td>\n",
       "      <td>73.543</td>\n",
       "      <td>290707.0</td>\n",
       "      <td>1</td>\n",
       "      <td>8.0</td>\n",
       "    </tr>\n",
       "    <tr>\n",
       "      <th>287</th>\n",
       "      <td>spotify:track:0wGv595Z2XDF9ZFbrbQqqH</td>\n",
       "      <td>Foo Fighters</td>\n",
       "      <td>Shame Shame</td>\n",
       "      <td>Shame Shame</td>\n",
       "      <td>7</td>\n",
       "      <td>4</td>\n",
       "      <td>0.648</td>\n",
       "      <td>0.864</td>\n",
       "      <td>-4.136</td>\n",
       "      <td>0.0335</td>\n",
       "      <td>0.00129</td>\n",
       "      <td>0.029600</td>\n",
       "      <td>0.0368</td>\n",
       "      <td>0.354</td>\n",
       "      <td>122.014</td>\n",
       "      <td>257434.0</td>\n",
       "      <td>1</td>\n",
       "      <td>6.0</td>\n",
       "    </tr>\n",
       "  </tbody>\n",
       "</table>\n",
       "</div>"
      ],
      "text/plain": [
       "                                       id        artist        album  \\\n",
       "283  spotify:track:3SVAN3BRByDmHOhKyIDxfC     Radiohead  OK Computer   \n",
       "284  spotify:track:2a1iMaoWQ5MnvLFBDv4qkf     Radiohead    The Bends   \n",
       "285  spotify:track:1bSpwPhAxZwlR2enJJsv7U     Radiohead  OK Computer   \n",
       "286  spotify:track:73CKjW3vsUXRpy3NnX4H7F     Radiohead    The Bends   \n",
       "287  spotify:track:0wGv595Z2XDF9ZFbrbQqqH  Foo Fighters  Shame Shame   \n",
       "\n",
       "                  title  key  time_signature  danceability  energy  loudness  \\\n",
       "283        Karma Police    7               4         0.360   0.505    -9.129   \n",
       "284        High and Dry    4               4         0.419   0.383   -11.782   \n",
       "285        No Surprises    5               4         0.255   0.393   -10.654   \n",
       "286  Fake Plastic Trees    2               4         0.463   0.229   -12.592   \n",
       "287         Shame Shame    7               4         0.648   0.864    -4.136   \n",
       "\n",
       "     speechiness  acousticness  instrumentalness  liveness  valence    tempo  \\\n",
       "283       0.0260       0.06260          0.000092    0.1720    0.317   74.807   \n",
       "284       0.0256       0.07240          0.017600    0.0896    0.350   87.568   \n",
       "285       0.0278       0.05770          0.003610    0.1130    0.118   76.426   \n",
       "286       0.0297       0.16700          0.099700    0.2020    0.135   73.543   \n",
       "287       0.0335       0.00129          0.029600    0.0368    0.354  122.014   \n",
       "\n",
       "     duration_ms  num_played  rate  \n",
       "283     264067.0           1   8.0  \n",
       "284     257480.0           1   8.0  \n",
       "285     229120.0           1   9.0  \n",
       "286     290707.0           1   8.0  \n",
       "287     257434.0           1   6.0  "
      ]
     },
     "execution_count": 3,
     "metadata": {},
     "output_type": "execute_result"
    }
   ],
   "source": [
    "data.tail()"
   ]
  },
  {
   "cell_type": "code",
   "execution_count": 4,
   "metadata": {},
   "outputs": [
    {
     "data": {
      "text/plain": [
       "id                  288\n",
       "artist              288\n",
       "album               288\n",
       "title               288\n",
       "key                 288\n",
       "time_signature      288\n",
       "danceability        288\n",
       "energy              288\n",
       "loudness            288\n",
       "speechiness         288\n",
       "acousticness        288\n",
       "instrumentalness    288\n",
       "liveness            288\n",
       "valence             288\n",
       "tempo               288\n",
       "duration_ms         288\n",
       "num_played          288\n",
       "rate                288\n",
       "dtype: int64"
      ]
     },
     "execution_count": 4,
     "metadata": {},
     "output_type": "execute_result"
    }
   ],
   "source": [
    "data.count()"
   ]
  },
  {
   "cell_type": "code",
   "execution_count": 17,
   "metadata": {},
   "outputs": [
    {
     "data": {
      "text/html": [
       "<div>\n",
       "<style scoped>\n",
       "    .dataframe tbody tr th:only-of-type {\n",
       "        vertical-align: middle;\n",
       "    }\n",
       "\n",
       "    .dataframe tbody tr th {\n",
       "        vertical-align: top;\n",
       "    }\n",
       "\n",
       "    .dataframe thead th {\n",
       "        text-align: right;\n",
       "    }\n",
       "</style>\n",
       "<table border=\"1\" class=\"dataframe\">\n",
       "  <thead>\n",
       "    <tr style=\"text-align: right;\">\n",
       "      <th></th>\n",
       "      <th>key</th>\n",
       "      <th>time_signature</th>\n",
       "      <th>danceability</th>\n",
       "      <th>energy</th>\n",
       "      <th>loudness</th>\n",
       "      <th>speechiness</th>\n",
       "      <th>acousticness</th>\n",
       "      <th>instrumentalness</th>\n",
       "      <th>liveness</th>\n",
       "      <th>valence</th>\n",
       "      <th>tempo</th>\n",
       "      <th>duration_ms</th>\n",
       "      <th>num_played</th>\n",
       "      <th>rate</th>\n",
       "    </tr>\n",
       "  </thead>\n",
       "  <tbody>\n",
       "    <tr>\n",
       "      <th>count</th>\n",
       "      <td>288.000000</td>\n",
       "      <td>288.000000</td>\n",
       "      <td>288.000000</td>\n",
       "      <td>288.000000</td>\n",
       "      <td>288.000000</td>\n",
       "      <td>288.000000</td>\n",
       "      <td>288.000000</td>\n",
       "      <td>288.000000</td>\n",
       "      <td>288.000000</td>\n",
       "      <td>288.000000</td>\n",
       "      <td>288.000000</td>\n",
       "      <td>288.000000</td>\n",
       "      <td>288.000000</td>\n",
       "      <td>288.000000</td>\n",
       "    </tr>\n",
       "    <tr>\n",
       "      <th>mean</th>\n",
       "      <td>5.170139</td>\n",
       "      <td>3.895833</td>\n",
       "      <td>0.497410</td>\n",
       "      <td>0.631624</td>\n",
       "      <td>-7.512840</td>\n",
       "      <td>0.044078</td>\n",
       "      <td>0.227312</td>\n",
       "      <td>0.113063</td>\n",
       "      <td>0.166878</td>\n",
       "      <td>0.371990</td>\n",
       "      <td>119.682785</td>\n",
       "      <td>246537.218750</td>\n",
       "      <td>1.163194</td>\n",
       "      <td>5.836806</td>\n",
       "    </tr>\n",
       "    <tr>\n",
       "      <th>std</th>\n",
       "      <td>3.616967</td>\n",
       "      <td>0.377388</td>\n",
       "      <td>0.146455</td>\n",
       "      <td>0.203876</td>\n",
       "      <td>2.947882</td>\n",
       "      <td>0.029634</td>\n",
       "      <td>0.272306</td>\n",
       "      <td>0.229659</td>\n",
       "      <td>0.132567</td>\n",
       "      <td>0.216929</td>\n",
       "      <td>27.647469</td>\n",
       "      <td>56075.221364</td>\n",
       "      <td>0.388555</td>\n",
       "      <td>1.762294</td>\n",
       "    </tr>\n",
       "    <tr>\n",
       "      <th>min</th>\n",
       "      <td>0.000000</td>\n",
       "      <td>1.000000</td>\n",
       "      <td>0.194000</td>\n",
       "      <td>0.062600</td>\n",
       "      <td>-19.536000</td>\n",
       "      <td>0.024300</td>\n",
       "      <td>0.000006</td>\n",
       "      <td>0.000000</td>\n",
       "      <td>0.036800</td>\n",
       "      <td>0.031200</td>\n",
       "      <td>50.293000</td>\n",
       "      <td>124096.000000</td>\n",
       "      <td>1.000000</td>\n",
       "      <td>2.000000</td>\n",
       "    </tr>\n",
       "    <tr>\n",
       "      <th>25%</th>\n",
       "      <td>2.000000</td>\n",
       "      <td>4.000000</td>\n",
       "      <td>0.388000</td>\n",
       "      <td>0.470750</td>\n",
       "      <td>-9.297000</td>\n",
       "      <td>0.030575</td>\n",
       "      <td>0.015500</td>\n",
       "      <td>0.000086</td>\n",
       "      <td>0.095625</td>\n",
       "      <td>0.188750</td>\n",
       "      <td>99.998750</td>\n",
       "      <td>201887.500000</td>\n",
       "      <td>1.000000</td>\n",
       "      <td>5.000000</td>\n",
       "    </tr>\n",
       "    <tr>\n",
       "      <th>50%</th>\n",
       "      <td>5.000000</td>\n",
       "      <td>4.000000</td>\n",
       "      <td>0.499000</td>\n",
       "      <td>0.663000</td>\n",
       "      <td>-7.155500</td>\n",
       "      <td>0.035250</td>\n",
       "      <td>0.114000</td>\n",
       "      <td>0.003600</td>\n",
       "      <td>0.115000</td>\n",
       "      <td>0.342500</td>\n",
       "      <td>119.999500</td>\n",
       "      <td>239926.500000</td>\n",
       "      <td>1.000000</td>\n",
       "      <td>6.000000</td>\n",
       "    </tr>\n",
       "    <tr>\n",
       "      <th>75%</th>\n",
       "      <td>8.000000</td>\n",
       "      <td>4.000000</td>\n",
       "      <td>0.601500</td>\n",
       "      <td>0.803000</td>\n",
       "      <td>-5.385000</td>\n",
       "      <td>0.046025</td>\n",
       "      <td>0.343000</td>\n",
       "      <td>0.063150</td>\n",
       "      <td>0.174250</td>\n",
       "      <td>0.512250</td>\n",
       "      <td>137.228000</td>\n",
       "      <td>273884.750000</td>\n",
       "      <td>1.000000</td>\n",
       "      <td>7.000000</td>\n",
       "    </tr>\n",
       "    <tr>\n",
       "      <th>max</th>\n",
       "      <td>11.000000</td>\n",
       "      <td>5.000000</td>\n",
       "      <td>0.885000</td>\n",
       "      <td>0.994000</td>\n",
       "      <td>-1.817000</td>\n",
       "      <td>0.317000</td>\n",
       "      <td>0.989000</td>\n",
       "      <td>0.948000</td>\n",
       "      <td>0.752000</td>\n",
       "      <td>0.964000</td>\n",
       "      <td>190.080000</td>\n",
       "      <td>453949.000000</td>\n",
       "      <td>3.000000</td>\n",
       "      <td>10.000000</td>\n",
       "    </tr>\n",
       "  </tbody>\n",
       "</table>\n",
       "</div>"
      ],
      "text/plain": [
       "              key  time_signature  danceability      energy    loudness  \\\n",
       "count  288.000000      288.000000    288.000000  288.000000  288.000000   \n",
       "mean     5.170139        3.895833      0.497410    0.631624   -7.512840   \n",
       "std      3.616967        0.377388      0.146455    0.203876    2.947882   \n",
       "min      0.000000        1.000000      0.194000    0.062600  -19.536000   \n",
       "25%      2.000000        4.000000      0.388000    0.470750   -9.297000   \n",
       "50%      5.000000        4.000000      0.499000    0.663000   -7.155500   \n",
       "75%      8.000000        4.000000      0.601500    0.803000   -5.385000   \n",
       "max     11.000000        5.000000      0.885000    0.994000   -1.817000   \n",
       "\n",
       "       speechiness  acousticness  instrumentalness    liveness     valence  \\\n",
       "count   288.000000    288.000000        288.000000  288.000000  288.000000   \n",
       "mean      0.044078      0.227312          0.113063    0.166878    0.371990   \n",
       "std       0.029634      0.272306          0.229659    0.132567    0.216929   \n",
       "min       0.024300      0.000006          0.000000    0.036800    0.031200   \n",
       "25%       0.030575      0.015500          0.000086    0.095625    0.188750   \n",
       "50%       0.035250      0.114000          0.003600    0.115000    0.342500   \n",
       "75%       0.046025      0.343000          0.063150    0.174250    0.512250   \n",
       "max       0.317000      0.989000          0.948000    0.752000    0.964000   \n",
       "\n",
       "            tempo    duration_ms  num_played        rate  \n",
       "count  288.000000     288.000000  288.000000  288.000000  \n",
       "mean   119.682785  246537.218750    1.163194    5.836806  \n",
       "std     27.647469   56075.221364    0.388555    1.762294  \n",
       "min     50.293000  124096.000000    1.000000    2.000000  \n",
       "25%     99.998750  201887.500000    1.000000    5.000000  \n",
       "50%    119.999500  239926.500000    1.000000    6.000000  \n",
       "75%    137.228000  273884.750000    1.000000    7.000000  \n",
       "max    190.080000  453949.000000    3.000000   10.000000  "
      ]
     },
     "execution_count": 17,
     "metadata": {},
     "output_type": "execute_result"
    }
   ],
   "source": [
    "data.describe()"
   ]
  },
  {
   "cell_type": "code",
   "execution_count": 6,
   "metadata": {},
   "outputs": [
    {
     "data": {
      "text/plain": [
       "0    0.861\n",
       "1    0.895\n",
       "2    0.832\n",
       "3    0.620\n",
       "4    0.789\n",
       "Name: energy, dtype: float64"
      ]
     },
     "execution_count": 6,
     "metadata": {},
     "output_type": "execute_result"
    }
   ],
   "source": [
    "data[\"energy\"].head()"
   ]
  },
  {
   "cell_type": "code",
   "execution_count": 19,
   "metadata": {},
   "outputs": [],
   "source": [
    "# stratify test sample so it represents the full dataset\n",
    "split = StratifiedShuffleSplit(n_splits=1, test_size=0.2, random_state=42)\n",
    "for train_index, test_index in split.split(data, data[\"rate\"]):\n",
    "    strat_train_set = data.loc[train_index]\n",
    "    strat_test_set = data.loc[test_index]"
   ]
  },
  {
   "cell_type": "code",
   "execution_count": 24,
   "metadata": {},
   "outputs": [],
   "source": [
    "X_train = strat_train_set.iloc[:, 4:-3]\n",
    "X_test = strat_test_set.iloc[:, 4:-3]\n",
    "y_train = strat_train_set[\"rate\"]\n",
    "y_test = strat_test_set[\"rate\"]"
   ]
  },
  {
   "cell_type": "code",
   "execution_count": 25,
   "metadata": {},
   "outputs": [
    {
     "data": {
      "text/html": [
       "<div>\n",
       "<style scoped>\n",
       "    .dataframe tbody tr th:only-of-type {\n",
       "        vertical-align: middle;\n",
       "    }\n",
       "\n",
       "    .dataframe tbody tr th {\n",
       "        vertical-align: top;\n",
       "    }\n",
       "\n",
       "    .dataframe thead th {\n",
       "        text-align: right;\n",
       "    }\n",
       "</style>\n",
       "<table border=\"1\" class=\"dataframe\">\n",
       "  <thead>\n",
       "    <tr style=\"text-align: right;\">\n",
       "      <th></th>\n",
       "      <th>key</th>\n",
       "      <th>time_signature</th>\n",
       "      <th>danceability</th>\n",
       "      <th>energy</th>\n",
       "      <th>loudness</th>\n",
       "      <th>speechiness</th>\n",
       "      <th>acousticness</th>\n",
       "      <th>instrumentalness</th>\n",
       "      <th>liveness</th>\n",
       "      <th>valence</th>\n",
       "      <th>tempo</th>\n",
       "    </tr>\n",
       "  </thead>\n",
       "  <tbody>\n",
       "    <tr>\n",
       "      <th>157</th>\n",
       "      <td>1</td>\n",
       "      <td>4</td>\n",
       "      <td>0.484</td>\n",
       "      <td>0.731</td>\n",
       "      <td>-6.694</td>\n",
       "      <td>0.0379</td>\n",
       "      <td>0.43100</td>\n",
       "      <td>0.000000</td>\n",
       "      <td>0.151</td>\n",
       "      <td>0.510</td>\n",
       "      <td>101.654</td>\n",
       "    </tr>\n",
       "    <tr>\n",
       "      <th>250</th>\n",
       "      <td>5</td>\n",
       "      <td>3</td>\n",
       "      <td>0.266</td>\n",
       "      <td>0.653</td>\n",
       "      <td>-7.586</td>\n",
       "      <td>0.0390</td>\n",
       "      <td>0.19200</td>\n",
       "      <td>0.073500</td>\n",
       "      <td>0.123</td>\n",
       "      <td>0.346</td>\n",
       "      <td>77.218</td>\n",
       "    </tr>\n",
       "    <tr>\n",
       "      <th>243</th>\n",
       "      <td>2</td>\n",
       "      <td>4</td>\n",
       "      <td>0.427</td>\n",
       "      <td>0.559</td>\n",
       "      <td>-7.524</td>\n",
       "      <td>0.0268</td>\n",
       "      <td>0.00111</td>\n",
       "      <td>0.004620</td>\n",
       "      <td>0.120</td>\n",
       "      <td>0.333</td>\n",
       "      <td>139.958</td>\n",
       "    </tr>\n",
       "    <tr>\n",
       "      <th>121</th>\n",
       "      <td>0</td>\n",
       "      <td>4</td>\n",
       "      <td>0.548</td>\n",
       "      <td>0.865</td>\n",
       "      <td>-5.325</td>\n",
       "      <td>0.0302</td>\n",
       "      <td>0.00171</td>\n",
       "      <td>0.000449</td>\n",
       "      <td>0.457</td>\n",
       "      <td>0.610</td>\n",
       "      <td>116.046</td>\n",
       "    </tr>\n",
       "    <tr>\n",
       "      <th>97</th>\n",
       "      <td>8</td>\n",
       "      <td>4</td>\n",
       "      <td>0.539</td>\n",
       "      <td>0.714</td>\n",
       "      <td>-4.925</td>\n",
       "      <td>0.0278</td>\n",
       "      <td>0.04890</td>\n",
       "      <td>0.000594</td>\n",
       "      <td>0.170</td>\n",
       "      <td>0.592</td>\n",
       "      <td>139.055</td>\n",
       "    </tr>\n",
       "  </tbody>\n",
       "</table>\n",
       "</div>"
      ],
      "text/plain": [
       "     key  time_signature  danceability  energy  loudness  speechiness  \\\n",
       "157    1               4         0.484   0.731    -6.694       0.0379   \n",
       "250    5               3         0.266   0.653    -7.586       0.0390   \n",
       "243    2               4         0.427   0.559    -7.524       0.0268   \n",
       "121    0               4         0.548   0.865    -5.325       0.0302   \n",
       "97     8               4         0.539   0.714    -4.925       0.0278   \n",
       "\n",
       "     acousticness  instrumentalness  liveness  valence    tempo  \n",
       "157       0.43100          0.000000     0.151    0.510  101.654  \n",
       "250       0.19200          0.073500     0.123    0.346   77.218  \n",
       "243       0.00111          0.004620     0.120    0.333  139.958  \n",
       "121       0.00171          0.000449     0.457    0.610  116.046  \n",
       "97        0.04890          0.000594     0.170    0.592  139.055  "
      ]
     },
     "execution_count": 25,
     "metadata": {},
     "output_type": "execute_result"
    }
   ],
   "source": [
    "X_train.head()"
   ]
  },
  {
   "cell_type": "code",
   "execution_count": 26,
   "metadata": {},
   "outputs": [
    {
     "data": {
      "text/plain": [
       "157    7.0\n",
       "250    5.0\n",
       "243    4.0\n",
       "121    5.0\n",
       "97     5.0\n",
       "Name: rate, dtype: float64"
      ]
     },
     "execution_count": 26,
     "metadata": {},
     "output_type": "execute_result"
    }
   ],
   "source": [
    "y_train.head()"
   ]
  },
  {
   "cell_type": "code",
   "execution_count": 27,
   "metadata": {},
   "outputs": [
    {
     "data": {
      "text/plain": [
       "5.0     0.236111\n",
       "6.0     0.173611\n",
       "4.0     0.156250\n",
       "7.0     0.142361\n",
       "8.0     0.135417\n",
       "3.0     0.072917\n",
       "9.0     0.059028\n",
       "10.0    0.013889\n",
       "2.0     0.010417\n",
       "Name: rate, dtype: float64"
      ]
     },
     "execution_count": 27,
     "metadata": {},
     "output_type": "execute_result"
    }
   ],
   "source": [
    "# check percentage of tracks per rate in the whole dataset\n",
    "data[\"rate\"].value_counts() / len(data)"
   ]
  },
  {
   "cell_type": "code",
   "execution_count": 30,
   "metadata": {},
   "outputs": [
    {
     "data": {
      "text/plain": [
       "5.0     0.234783\n",
       "6.0     0.173913\n",
       "4.0     0.156522\n",
       "7.0     0.143478\n",
       "8.0     0.134783\n",
       "3.0     0.073913\n",
       "9.0     0.060870\n",
       "10.0    0.013043\n",
       "2.0     0.008696\n",
       "Name: rate, dtype: float64"
      ]
     },
     "execution_count": 30,
     "metadata": {},
     "output_type": "execute_result"
    }
   ],
   "source": [
    "# check that train set has the same distribution as in the whole dataset\n",
    "y_train.value_counts() / len(y_train)"
   ]
  },
  {
   "cell_type": "code",
   "execution_count": 32,
   "metadata": {},
   "outputs": [],
   "source": [
    "pipeline = Pipeline([\n",
    "    (\"min_max\", MinMaxScaler())\n",
    "])"
   ]
  },
  {
   "cell_type": "code",
   "execution_count": 33,
   "metadata": {},
   "outputs": [],
   "source": [
    "X_train_prepared = pipeline.fit_transform(X_train)"
   ]
  },
  {
   "cell_type": "code",
   "execution_count": 65,
   "metadata": {},
   "outputs": [
    {
     "data": {
      "text/plain": [
       "['pipeline.joblib']"
      ]
     },
     "execution_count": 65,
     "metadata": {},
     "output_type": "execute_result"
    }
   ],
   "source": [
    "joblib.dump(pipeline, \"pipeline.joblib\")"
   ]
  },
  {
   "cell_type": "code",
   "execution_count": 43,
   "metadata": {},
   "outputs": [
    {
     "data": {
      "text/plain": [
       "(230,)"
      ]
     },
     "execution_count": 43,
     "metadata": {},
     "output_type": "execute_result"
    }
   ],
   "source": [
    "y_train.shape"
   ]
  },
  {
   "cell_type": "code",
   "execution_count": 44,
   "metadata": {},
   "outputs": [
    {
     "data": {
      "text/plain": [
       "(230, 11)"
      ]
     },
     "execution_count": 44,
     "metadata": {},
     "output_type": "execute_result"
    }
   ],
   "source": [
    "X_train_prepared.shape"
   ]
  },
  {
   "cell_type": "code",
   "execution_count": 50,
   "metadata": {},
   "outputs": [],
   "source": [
    "X_test_prepared = pipeline.transform(X_test)"
   ]
  },
  {
   "cell_type": "code",
   "execution_count": 62,
   "metadata": {},
   "outputs": [
    {
     "data": {
      "text/plain": [
       "1.7578162153854842"
      ]
     },
     "execution_count": 62,
     "metadata": {},
     "output_type": "execute_result"
    }
   ],
   "source": [
    "# linear regression model\n",
    "from sklearn.linear_model import LinearRegression\n",
    "\n",
    "linear_regression = LinearRegression()\n",
    "linear_regression.fit(X_train_prepared, y_train)\n",
    "\n",
    "y_test_predictions = linear_regression.predict(X_test_prepared)\n",
    "\n",
    "np.sqrt(mean_squared_error(y_test, y_test_predictions))\n",
    "\n",
    "joblib.dump(decision_tree, \"linear_regression.joblib\")"
   ]
  },
  {
   "cell_type": "code",
   "execution_count": 60,
   "metadata": {},
   "outputs": [
    {
     "data": {
      "text/plain": [
       "2.2215635997166965"
      ]
     },
     "execution_count": 60,
     "metadata": {},
     "output_type": "execute_result"
    }
   ],
   "source": [
    "# decision tree model\n",
    "from sklearn.tree import DecisionTreeRegressor\n",
    "\n",
    "decision_tree = DecisionTreeRegressor()\n",
    "decision_tree.fit(X_train_prepared, y_train)\n",
    "\n",
    "y_test_predictions = decision_tree.predict(X_test_prepared)\n",
    "\n",
    "np.sqrt(mean_squared_error(y_test, y_test_predictions))\n",
    "\n",
    "joblib.dump(decision_tree, \"decision_tree.joblib\")"
   ]
  },
  {
   "cell_type": "code",
   "execution_count": 63,
   "metadata": {},
   "outputs": [
    {
     "data": {
      "text/plain": [
       "1.7396175177047484"
      ]
     },
     "execution_count": 63,
     "metadata": {},
     "output_type": "execute_result"
    }
   ],
   "source": [
    "# random forest model\n",
    "from sklearn.ensemble import RandomForestRegressor\n",
    "\n",
    "random_forest = RandomForestRegressor()\n",
    "random_forest.fit(X_train_prepared, y_train)\n",
    "\n",
    "y_test_predictions = random_forest.predict(X_test_prepared)\n",
    "\n",
    "np.sqrt(mean_squared_error(y_test, y_test_predictions))"
   ]
  },
  {
   "cell_type": "code",
   "execution_count": null,
   "metadata": {},
   "outputs": [],
   "source": []
  }
 ],
 "metadata": {
  "kernelspec": {
   "display_name": "Python 3",
   "language": "python",
   "name": "python3"
  },
  "language_info": {
   "codemirror_mode": {
    "name": "ipython",
    "version": 3
   },
   "file_extension": ".py",
   "mimetype": "text/x-python",
   "name": "python",
   "nbconvert_exporter": "python",
   "pygments_lexer": "ipython3",
   "version": "3.8.6"
  }
 },
 "nbformat": 4,
 "nbformat_minor": 1
}
