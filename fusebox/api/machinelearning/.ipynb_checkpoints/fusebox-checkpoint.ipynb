{
 "cells": [
  {
   "cell_type": "code",
   "execution_count": 2,
   "metadata": {
    "collapsed": true
   },
   "outputs": [],
   "source": [
    "import numpy as np"
   ]
  },
  {
   "cell_type": "code",
   "execution_count": 3,
   "metadata": {
    "collapsed": true
   },
   "outputs": [],
   "source": [
    "import pandas as pd"
   ]
  },
  {
   "cell_type": "code",
   "execution_count": 4,
   "metadata": {
    "collapsed": true
   },
   "outputs": [],
   "source": [
    "data = pd.read_csv(\"fusebox.csv\")"
   ]
  },
  {
   "cell_type": "code",
   "execution_count": 5,
   "metadata": {
    "collapsed": false
   },
   "outputs": [
    {
     "data": {
      "text/html": [
       "<div>\n",
       "<table border=\"1\" class=\"dataframe\">\n",
       "  <thead>\n",
       "    <tr style=\"text-align: right;\">\n",
       "      <th></th>\n",
       "      <th>id</th>\n",
       "      <th>artist</th>\n",
       "      <th>album</th>\n",
       "      <th>title</th>\n",
       "      <th>danceability</th>\n",
       "      <th>energy</th>\n",
       "      <th>loudness</th>\n",
       "      <th>speechiness</th>\n",
       "      <th>acousticness</th>\n",
       "      <th>instrumentalness</th>\n",
       "      <th>liveness</th>\n",
       "      <th>valence</th>\n",
       "      <th>tempo</th>\n",
       "      <th>duration_ms</th>\n",
       "      <th>num_played</th>\n",
       "      <th>rate</th>\n",
       "    </tr>\n",
       "  </thead>\n",
       "  <tbody>\n",
       "    <tr>\n",
       "      <th>194</th>\n",
       "      <td>spotify:track:3Wyc7M8twhxeyaC51BcQYb</td>\n",
       "      <td>2Pac, Talent</td>\n",
       "      <td>2Pac Greatest Hits (Explicit Version)</td>\n",
       "      <td>Changes - 1998 Greatest Hits (Explicit)</td>\n",
       "      <td>0.863</td>\n",
       "      <td>0.672</td>\n",
       "      <td>-6.311</td>\n",
       "      <td>0.0739</td>\n",
       "      <td>0.0446</td>\n",
       "      <td>0.00000</td>\n",
       "      <td>0.1660</td>\n",
       "      <td>0.3380</td>\n",
       "      <td>111.110</td>\n",
       "      <td>268827.0</td>\n",
       "      <td>1</td>\n",
       "      <td>7.0</td>\n",
       "    </tr>\n",
       "    <tr>\n",
       "      <th>195</th>\n",
       "      <td>spotify:track:5EnYT6F7wEcdege6mDHEfO</td>\n",
       "      <td>Drake</td>\n",
       "      <td>Signs</td>\n",
       "      <td>Signs</td>\n",
       "      <td>0.801</td>\n",
       "      <td>0.727</td>\n",
       "      <td>-4.687</td>\n",
       "      <td>0.0606</td>\n",
       "      <td>0.0864</td>\n",
       "      <td>0.00406</td>\n",
       "      <td>0.1120</td>\n",
       "      <td>0.2180</td>\n",
       "      <td>107.371</td>\n",
       "      <td>234373.0</td>\n",
       "      <td>1</td>\n",
       "      <td>9.0</td>\n",
       "    </tr>\n",
       "    <tr>\n",
       "      <th>196</th>\n",
       "      <td>spotify:track:5jafMI8FLibnjkYTZ33m0c</td>\n",
       "      <td>Radiohead</td>\n",
       "      <td>The Bends</td>\n",
       "      <td>High And Dry</td>\n",
       "      <td>0.418</td>\n",
       "      <td>0.383</td>\n",
       "      <td>-11.782</td>\n",
       "      <td>0.0257</td>\n",
       "      <td>0.0718</td>\n",
       "      <td>0.01770</td>\n",
       "      <td>0.0896</td>\n",
       "      <td>0.3520</td>\n",
       "      <td>87.773</td>\n",
       "      <td>257480.0</td>\n",
       "      <td>1</td>\n",
       "      <td>7.0</td>\n",
       "    </tr>\n",
       "    <tr>\n",
       "      <th>197</th>\n",
       "      <td>spotify:track:0F1sjS4EhR1Rwiq4ir6mqZ</td>\n",
       "      <td>The Verve</td>\n",
       "      <td>Urban Hymns (Deluxe / Remastered 2016)</td>\n",
       "      <td>The Drugs Don't Work</td>\n",
       "      <td>0.445</td>\n",
       "      <td>0.526</td>\n",
       "      <td>-8.649</td>\n",
       "      <td>0.0265</td>\n",
       "      <td>0.1850</td>\n",
       "      <td>0.00000</td>\n",
       "      <td>0.1400</td>\n",
       "      <td>0.1740</td>\n",
       "      <td>77.420</td>\n",
       "      <td>304880.0</td>\n",
       "      <td>1</td>\n",
       "      <td>3.0</td>\n",
       "    </tr>\n",
       "    <tr>\n",
       "      <th>198</th>\n",
       "      <td>spotify:track:38rMZCtAPuRgOuV3pyFDmF</td>\n",
       "      <td>M|O|O|N</td>\n",
       "      <td>Moon - EP</td>\n",
       "      <td>Hydrogen</td>\n",
       "      <td>0.797</td>\n",
       "      <td>0.948</td>\n",
       "      <td>-7.941</td>\n",
       "      <td>0.0523</td>\n",
       "      <td>0.0052</td>\n",
       "      <td>0.75200</td>\n",
       "      <td>0.0695</td>\n",
       "      <td>0.0451</td>\n",
       "      <td>125.934</td>\n",
       "      <td>289524.0</td>\n",
       "      <td>1</td>\n",
       "      <td>9.0</td>\n",
       "    </tr>\n",
       "  </tbody>\n",
       "</table>\n",
       "</div>"
      ],
      "text/plain": [
       "                                       id        artist  \\\n",
       "194  spotify:track:3Wyc7M8twhxeyaC51BcQYb  2Pac, Talent   \n",
       "195  spotify:track:5EnYT6F7wEcdege6mDHEfO         Drake   \n",
       "196  spotify:track:5jafMI8FLibnjkYTZ33m0c     Radiohead   \n",
       "197  spotify:track:0F1sjS4EhR1Rwiq4ir6mqZ     The Verve   \n",
       "198  spotify:track:38rMZCtAPuRgOuV3pyFDmF       M|O|O|N   \n",
       "\n",
       "                                      album  \\\n",
       "194   2Pac Greatest Hits (Explicit Version)   \n",
       "195                                   Signs   \n",
       "196                               The Bends   \n",
       "197  Urban Hymns (Deluxe / Remastered 2016)   \n",
       "198                               Moon - EP   \n",
       "\n",
       "                                       title  danceability  energy  loudness  \\\n",
       "194  Changes - 1998 Greatest Hits (Explicit)         0.863   0.672    -6.311   \n",
       "195                                    Signs         0.801   0.727    -4.687   \n",
       "196                             High And Dry         0.418   0.383   -11.782   \n",
       "197                     The Drugs Don't Work         0.445   0.526    -8.649   \n",
       "198                                 Hydrogen         0.797   0.948    -7.941   \n",
       "\n",
       "     speechiness  acousticness  instrumentalness  liveness  valence    tempo  \\\n",
       "194       0.0739        0.0446           0.00000    0.1660   0.3380  111.110   \n",
       "195       0.0606        0.0864           0.00406    0.1120   0.2180  107.371   \n",
       "196       0.0257        0.0718           0.01770    0.0896   0.3520   87.773   \n",
       "197       0.0265        0.1850           0.00000    0.1400   0.1740   77.420   \n",
       "198       0.0523        0.0052           0.75200    0.0695   0.0451  125.934   \n",
       "\n",
       "     duration_ms  num_played  rate  \n",
       "194     268827.0           1   7.0  \n",
       "195     234373.0           1   9.0  \n",
       "196     257480.0           1   7.0  \n",
       "197     304880.0           1   3.0  \n",
       "198     289524.0           1   9.0  "
      ]
     },
     "execution_count": 5,
     "metadata": {},
     "output_type": "execute_result"
    }
   ],
   "source": [
    "data.tail()"
   ]
  },
  {
   "cell_type": "code",
   "execution_count": 6,
   "metadata": {
    "collapsed": false
   },
   "outputs": [
    {
     "data": {
      "text/plain": [
       "194    spotify:track:3Wyc7M8twhxeyaC51BcQYb\n",
       "195    spotify:track:5EnYT6F7wEcdege6mDHEfO\n",
       "196    spotify:track:5jafMI8FLibnjkYTZ33m0c\n",
       "197    spotify:track:0F1sjS4EhR1Rwiq4ir6mqZ\n",
       "198    spotify:track:38rMZCtAPuRgOuV3pyFDmF\n",
       "Name: id, dtype: object"
      ]
     },
     "execution_count": 6,
     "metadata": {},
     "output_type": "execute_result"
    }
   ],
   "source": [
    "data[\"id\"].tail()"
   ]
  },
  {
   "cell_type": "code",
   "execution_count": null,
   "metadata": {
    "collapsed": true
   },
   "outputs": [],
   "source": []
  }
 ],
 "metadata": {
  "kernelspec": {
   "display_name": "Python 3",
   "language": "python",
   "name": "python3"
  },
  "language_info": {
   "codemirror_mode": {
    "name": "ipython",
    "version": 3
   },
   "file_extension": ".py",
   "mimetype": "text/x-python",
   "name": "python",
   "nbconvert_exporter": "python",
   "pygments_lexer": "ipython3",
   "version": "3.5.2"
  }
 },
 "nbformat": 4,
 "nbformat_minor": 1
}
