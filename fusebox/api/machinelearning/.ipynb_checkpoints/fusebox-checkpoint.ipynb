{
 "cells": [
  {
   "cell_type": "code",
   "execution_count": 2,
   "metadata": {
    "collapsed": true
   },
   "outputs": [],
   "source": [
    "import numpy as np"
   ]
  },
  {
   "cell_type": "code",
   "execution_count": 3,
   "metadata": {
    "collapsed": true
   },
   "outputs": [],
   "source": [
    "import pandas as pd"
   ]
  },
  {
   "cell_type": "code",
   "execution_count": 4,
   "metadata": {
    "collapsed": true
   },
   "outputs": [],
   "source": [
    "data = pd.read_csv(\"fusebox.csv\")"
   ]
  },
  {
   "cell_type": "code",
   "execution_count": 5,
   "metadata": {},
   "outputs": [
    {
     "data": {
      "text/html": [
       "<div>\n",
       "<table border=\"1\" class=\"dataframe\">\n",
       "  <thead>\n",
       "    <tr style=\"text-align: right;\">\n",
       "      <th></th>\n",
       "      <th>id</th>\n",
       "      <th>artist</th>\n",
       "      <th>album</th>\n",
       "      <th>title</th>\n",
       "      <th>danceability</th>\n",
       "      <th>energy</th>\n",
       "      <th>loudness</th>\n",
       "      <th>speechiness</th>\n",
       "      <th>acousticness</th>\n",
       "      <th>instrumentalness</th>\n",
       "      <th>liveness</th>\n",
       "      <th>valence</th>\n",
       "      <th>tempo</th>\n",
       "      <th>duration_ms</th>\n",
       "      <th>num_played</th>\n",
       "      <th>rate</th>\n",
       "    </tr>\n",
       "  </thead>\n",
       "  <tbody>\n",
       "    <tr>\n",
       "      <th>194</th>\n",
       "      <td>spotify:track:3Wyc7M8twhxeyaC51BcQYb</td>\n",
       "      <td>2Pac, Talent</td>\n",
       "      <td>2Pac Greatest Hits (Explicit Version)</td>\n",
       "      <td>Changes - 1998 Greatest Hits (Explicit)</td>\n",
       "      <td>0.863</td>\n",
       "      <td>0.672</td>\n",
       "      <td>-6.311</td>\n",
       "      <td>0.0739</td>\n",
       "      <td>0.0446</td>\n",
       "      <td>0.00000</td>\n",
       "      <td>0.1660</td>\n",
       "      <td>0.3380</td>\n",
       "      <td>111.110</td>\n",
       "      <td>268827.0</td>\n",
       "      <td>1</td>\n",
       "      <td>7.0</td>\n",
       "    </tr>\n",
       "    <tr>\n",
       "      <th>195</th>\n",
       "      <td>spotify:track:5EnYT6F7wEcdege6mDHEfO</td>\n",
       "      <td>Drake</td>\n",
       "      <td>Signs</td>\n",
       "      <td>Signs</td>\n",
       "      <td>0.801</td>\n",
       "      <td>0.727</td>\n",
       "      <td>-4.687</td>\n",
       "      <td>0.0606</td>\n",
       "      <td>0.0864</td>\n",
       "      <td>0.00406</td>\n",
       "      <td>0.1120</td>\n",
       "      <td>0.2180</td>\n",
       "      <td>107.371</td>\n",
       "      <td>234373.0</td>\n",
       "      <td>1</td>\n",
       "      <td>9.0</td>\n",
       "    </tr>\n",
       "    <tr>\n",
       "      <th>196</th>\n",
       "      <td>spotify:track:5jafMI8FLibnjkYTZ33m0c</td>\n",
       "      <td>Radiohead</td>\n",
       "      <td>The Bends</td>\n",
       "      <td>High And Dry</td>\n",
       "      <td>0.418</td>\n",
       "      <td>0.383</td>\n",
       "      <td>-11.782</td>\n",
       "      <td>0.0257</td>\n",
       "      <td>0.0718</td>\n",
       "      <td>0.01770</td>\n",
       "      <td>0.0896</td>\n",
       "      <td>0.3520</td>\n",
       "      <td>87.773</td>\n",
       "      <td>257480.0</td>\n",
       "      <td>1</td>\n",
       "      <td>7.0</td>\n",
       "    </tr>\n",
       "    <tr>\n",
       "      <th>197</th>\n",
       "      <td>spotify:track:0F1sjS4EhR1Rwiq4ir6mqZ</td>\n",
       "      <td>The Verve</td>\n",
       "      <td>Urban Hymns (Deluxe / Remastered 2016)</td>\n",
       "      <td>The Drugs Don't Work</td>\n",
       "      <td>0.445</td>\n",
       "      <td>0.526</td>\n",
       "      <td>-8.649</td>\n",
       "      <td>0.0265</td>\n",
       "      <td>0.1850</td>\n",
       "      <td>0.00000</td>\n",
       "      <td>0.1400</td>\n",
       "      <td>0.1740</td>\n",
       "      <td>77.420</td>\n",
       "      <td>304880.0</td>\n",
       "      <td>1</td>\n",
       "      <td>3.0</td>\n",
       "    </tr>\n",
       "    <tr>\n",
       "      <th>198</th>\n",
       "      <td>spotify:track:38rMZCtAPuRgOuV3pyFDmF</td>\n",
       "      <td>M|O|O|N</td>\n",
       "      <td>Moon - EP</td>\n",
       "      <td>Hydrogen</td>\n",
       "      <td>0.797</td>\n",
       "      <td>0.948</td>\n",
       "      <td>-7.941</td>\n",
       "      <td>0.0523</td>\n",
       "      <td>0.0052</td>\n",
       "      <td>0.75200</td>\n",
       "      <td>0.0695</td>\n",
       "      <td>0.0451</td>\n",
       "      <td>125.934</td>\n",
       "      <td>289524.0</td>\n",
       "      <td>1</td>\n",
       "      <td>9.0</td>\n",
       "    </tr>\n",
       "  </tbody>\n",
       "</table>\n",
       "</div>"
      ],
      "text/plain": [
       "                                       id        artist  \\\n",
       "194  spotify:track:3Wyc7M8twhxeyaC51BcQYb  2Pac, Talent   \n",
       "195  spotify:track:5EnYT6F7wEcdege6mDHEfO         Drake   \n",
       "196  spotify:track:5jafMI8FLibnjkYTZ33m0c     Radiohead   \n",
       "197  spotify:track:0F1sjS4EhR1Rwiq4ir6mqZ     The Verve   \n",
       "198  spotify:track:38rMZCtAPuRgOuV3pyFDmF       M|O|O|N   \n",
       "\n",
       "                                      album  \\\n",
       "194   2Pac Greatest Hits (Explicit Version)   \n",
       "195                                   Signs   \n",
       "196                               The Bends   \n",
       "197  Urban Hymns (Deluxe / Remastered 2016)   \n",
       "198                               Moon - EP   \n",
       "\n",
       "                                       title  danceability  energy  loudness  \\\n",
       "194  Changes - 1998 Greatest Hits (Explicit)         0.863   0.672    -6.311   \n",
       "195                                    Signs         0.801   0.727    -4.687   \n",
       "196                             High And Dry         0.418   0.383   -11.782   \n",
       "197                     The Drugs Don't Work         0.445   0.526    -8.649   \n",
       "198                                 Hydrogen         0.797   0.948    -7.941   \n",
       "\n",
       "     speechiness  acousticness  instrumentalness  liveness  valence    tempo  \\\n",
       "194       0.0739        0.0446           0.00000    0.1660   0.3380  111.110   \n",
       "195       0.0606        0.0864           0.00406    0.1120   0.2180  107.371   \n",
       "196       0.0257        0.0718           0.01770    0.0896   0.3520   87.773   \n",
       "197       0.0265        0.1850           0.00000    0.1400   0.1740   77.420   \n",
       "198       0.0523        0.0052           0.75200    0.0695   0.0451  125.934   \n",
       "\n",
       "     duration_ms  num_played  rate  \n",
       "194     268827.0           1   7.0  \n",
       "195     234373.0           1   9.0  \n",
       "196     257480.0           1   7.0  \n",
       "197     304880.0           1   3.0  \n",
       "198     289524.0           1   9.0  "
      ]
     },
     "execution_count": 5,
     "metadata": {},
     "output_type": "execute_result"
    }
   ],
   "source": [
    "data.tail()"
   ]
  },
  {
   "cell_type": "code",
   "execution_count": 6,
   "metadata": {},
   "outputs": [
    {
     "data": {
      "text/plain": [
       "194    spotify:track:3Wyc7M8twhxeyaC51BcQYb\n",
       "195    spotify:track:5EnYT6F7wEcdege6mDHEfO\n",
       "196    spotify:track:5jafMI8FLibnjkYTZ33m0c\n",
       "197    spotify:track:0F1sjS4EhR1Rwiq4ir6mqZ\n",
       "198    spotify:track:38rMZCtAPuRgOuV3pyFDmF\n",
       "Name: id, dtype: object"
      ]
     },
     "execution_count": 6,
     "metadata": {},
     "output_type": "execute_result"
    }
   ],
   "source": [
    "data[\"id\"].tail()"
   ]
  },
  {
   "cell_type": "code",
   "execution_count": 7,
   "metadata": {},
   "outputs": [
    {
     "data": {
      "text/plain": [
       "id                  199\n",
       "artist              199\n",
       "album               199\n",
       "title               199\n",
       "danceability        199\n",
       "energy              199\n",
       "loudness            199\n",
       "speechiness         199\n",
       "acousticness        199\n",
       "instrumentalness    199\n",
       "liveness            199\n",
       "valence             199\n",
       "tempo               199\n",
       "duration_ms         199\n",
       "num_played          199\n",
       "rate                199\n",
       "dtype: int64"
      ]
     },
     "execution_count": 7,
     "metadata": {},
     "output_type": "execute_result"
    }
   ],
   "source": [
    "data.count()"
   ]
  },
  {
   "cell_type": "code",
   "execution_count": 9,
   "metadata": {},
   "outputs": [
    {
     "data": {
      "text/plain": [
       "dtype('O')"
      ]
     },
     "execution_count": 9,
     "metadata": {},
     "output_type": "execute_result"
    }
   ],
   "source": [
    "data[\"id\"].dtype"
   ]
  },
  {
   "cell_type": "code",
   "execution_count": 11,
   "metadata": {},
   "outputs": [
    {
     "data": {
      "text/plain": [
       "0    0.545\n",
       "1    0.557\n",
       "2    0.666\n",
       "3    0.722\n",
       "4    0.824\n",
       "Name: energy, dtype: float64"
      ]
     },
     "execution_count": 11,
     "metadata": {},
     "output_type": "execute_result"
    }
   ],
   "source": [
    "data[\"energy\"].head()"
   ]
  },
  {
   "cell_type": "code",
   "execution_count": 12,
   "metadata": {
    "collapsed": true
   },
   "outputs": [],
   "source": [
    "a = np.array([[1,2],[3,4]])"
   ]
  },
  {
   "cell_type": "code",
   "execution_count": 18,
   "metadata": {},
   "outputs": [
    {
     "data": {
      "text/plain": [
       "array([1, 2, 3, 4])"
      ]
     },
     "execution_count": 18,
     "metadata": {},
     "output_type": "execute_result"
    }
   ],
   "source": [
    "a.ravel()"
   ]
  },
  {
   "cell_type": "code",
   "execution_count": 19,
   "metadata": {},
   "outputs": [
    {
     "data": {
      "text/plain": [
       "array([1, 2, 3, 4])"
      ]
     },
     "execution_count": 19,
     "metadata": {},
     "output_type": "execute_result"
    }
   ],
   "source": [
    "a.flatten()"
   ]
  },
  {
   "cell_type": "code",
   "execution_count": 20,
   "metadata": {},
   "outputs": [
    {
     "data": {
      "text/plain": [
       "array([[1, 2],\n",
       "       [3, 4]])"
      ]
     },
     "execution_count": 20,
     "metadata": {},
     "output_type": "execute_result"
    }
   ],
   "source": [
    "a"
   ]
  },
  {
   "cell_type": "code",
   "execution_count": 21,
   "metadata": {},
   "outputs": [
    {
     "data": {
      "text/plain": [
       "'{\"id\":{\"0\":\"spotify:track:0mhcWPYviFvHzhrOuZiZQM\",\"1\":\"spotify:track:69Naniu2KjKjaQOBUagE8U\",\"2\":\"spotify:track:7GXO38sbsOtZcL4C2HCEMa\",\"3\":\"spotify:track:7t6JEAGTsLvJH8QUYBgzNY\",\"4\":\"spotify:track:4u2RPCt1DdZuGgRvfvnEgb\",\"5\":\"spotify:track:0SLH9b0nlK4larScjLxfSn\",\"6\":\"spotify:track:1LYipMFKz8X6fNU7RJvvVW\",\"7\":\"spotify:track:06iwhAevuCgupNwTg3wSC3\",\"8\":\"spotify:track:4t4uk0wS8mvGwuAsGW9TB8\",\"9\":\"spotify:track:6j943OaUx84yACnpMurHQf\",\"10\":\"spotify:track:1fchgXINtcQqZRAjKicdzz\",\"11\":\"spotify:track:1YNLgeKVnCzhhp2JD7iRpJ\",\"12\":\"spotify:track:1na1L8CvxXNDDQ7COhstWW\",\"13\":\"spotify:track:2hlqCFahLVgdBIbY3yTrAb\",\"14\":\"spotify:track:5G4SFL3OIkg1X5Es2jwrnF\",\"15\":\"spotify:track:2EeujvJimt6SNSbIKOjI4v\",\"16\":\"spotify:track:5Av0knRzwqacQGnp7XC2YK\",\"17\":\"spotify:track:6Rc72u0zYg2Qv4KNKqSXlW\",\"18\":\"spotify:track:5GD3iSEgPgb76VHQqjnE4o\",\"19\":\"spotify:track:0MYcDq74yEMem9mW3m2ELY\",\"20\":\"spotify:track:53aJKini6x1lskTHUEWs4e\",\"21\":\"spotify:track:4hvmK2HZPB2MwKjWprYCxg\",\"22\":\"spotify:track:1zyMwU1NtRDkuQWthUbGsL\",\"23\":\"spotify:track:5XGzBprbMpVbA9eXOTMKvm\",\"24\":\"spotify:track:5xvHKh0QAbzYUUiazFGnAD\",\"25\":\"spotify:track:0XSiiBEmjVCCQ4SeA5Afq6\",\"26\":\"spotify:track:0bfmfUQQ291rU0BUxc33u0\",\"27\":\"spotify:track:6vLkn5w2UtsBdNAd98QQNK\",\"28\":\"spotify:track:1Bzt8ya4lki8tDYrMZxb5E\",\"29\":\"spotify:track:0AVzhaaOaGgdyXJ2orgfwC\",\"30\":\"spotify:track:7hMqIrwysNlIXRmFCIn5j3\",\"31\":\"spotify:track:1LeItUMezKA1HdCHxYICed\",\"32\":\"spotify:track:3n69hLUdIsSa1WlRmjMZlW\",\"33\":\"spotify:track:0rPKzetB39NEPXxz4xUtex\",\"34\":\"spotify:track:0ekII9O2RfHOivSRY9Bn1U\",\"35\":\"spotify:track:2eMh8ISgK9dylE51SJUixA\",\"36\":\"spotify:track:3hBBKuWJfxlIlnd9QFoC8k\",\"37\":\"spotify:track:6ztstiyZL6FXzh4aG46ZPD\",\"38\":\"spotify:track:3M8FzayQWtkvOhqMn2V4T2\",\"39\":\"spotify:track:3T6R0ppqCnUW6iJhtUYhO3\",\"40\":\"spotify:track:594FzPlCmqygQMoZAkGegM\",\"41\":\"spotify:track:2RlgNHKcydI9sayD2Df2xp\",\"42\":\"spotify:track:04XdCMi1WhAjVyRJbAtaq0\",\"43\":\"spotify:track:5cP52DlDN9yryuZVQDg3iq\",\"44\":\"spotify:track:5e9TFTbltYBg2xThimr0rU\",\"45\":\"spotify:track:7ePFDzrnLt3Ynqgy2UFWri\",\"46\":\"spotify:track:4MC8Oom2D2a7ZPQDpuVIYK\",\"47\":\"spotify:track:384TqRlwlMfeUAODhXfF3O\",\"48\":\"spotify:track:60eOMEt3WNVX1m1jmApmnX\",\"49\":\"spotify:track:2Nv52rWLPoRebtWMQ362w6\",\"50\":\"spotify:track:0tPQPaOKM32WgMSbPCYyRH\",\"51\":\"spotify:track:0Wv5wuenRLI3BcwgT3HPIP\",\"52\":\"spotify:track:2oL0HIuo0cxIycDtJWbpuN\",\"53\":\"spotify:track:2gwYRdVBQtH6sj0njVtFY9\",\"54\":\"spotify:track:6AsW5PbmtQKYgXfbaNul8b\",\"55\":\"spotify:track:58stjpV04lJKmPgc2vxm6J\",\"56\":\"spotify:track:6i9TdnGsFtiFZqoS0Hm82f\",\"57\":\"spotify:track:2q2jR9QQKo3aaGX74nR0di\",\"58\":\"spotify:track:09SkVGEc9XM7KunLTU18wA\",\"59\":\"spotify:track:1WUNO1ksO0boGhCtp599bI\",\"60\":\"spotify:track:2UsnjLHBKPaaRjZiWYUCpj\",\"61\":\"spotify:track:3vv9phIu6Y1vX3jcqaGz5Z\",\"62\":\"spotify:track:64b00590trgiAQh18OoZe9\",\"63\":\"spotify:track:69d67l28GKygFwW4QbyfDR\",\"64\":\"spotify:track:3u49n658xRS0pjHxHFRkOf\",\"65\":\"spotify:track:13dUdcqUMuSeo8rZwJfVz6\",\"66\":\"spotify:track:6Bf9ZZ2x43AF5MntybMYJv\",\"67\":\"spotify:track:1ZbUzxaBelnprZ0qDdRirO\",\"68\":\"spotify:track:5KitV49wtt8QDwhqNDW9tC\",\"69\":\"spotify:track:6fvwYmIWw37XENjqHQ2qP6\",\"70\":\"spotify:track:4At8zIlntcZaPorwdI69km\",\"71\":\"spotify:track:5LFkU8ve5AZuOwvYZPw848\",\"72\":\"spotify:track:4GY7FKDpl5MkO78zHCSbZi\",\"73\":\"spotify:track:7ejNRmaEYpXVbdWEulQbb4\",\"74\":\"spotify:track:0GEL6WX7CHmwrZOIWnQvlu\",\"75\":\"spotify:track:7yzbimr8WVyAtBX3Eg6UL9\",\"76\":\"spotify:track:4bjvLvKovcWqZwDbXT5QQX\",\"77\":\"spotify:track:2EoOZnxNgtmZaD8uUmz2nD\",\"78\":\"spotify:track:5JZcX7TTLx4l0xFIXJ3DBt\",\"79\":\"spotify:track:1xShPgQbOUa98avWJQFDBY\",\"80\":\"spotify:track:7CVYxHq1L0Z4G84jTDS6Jl\",\"81\":\"spotify:track:4YugO7rO57FSmvj4UkyTXx\",\"82\":\"spotify:track:1FTSo4v6BOZH9QxKc3MbVM\",\"83\":\"spotify:track:7yCPwWs66K8Ba5lFuU2bcx\",\"84\":\"spotify:track:0fIC59ZyS8ThtUF0Um6zuD\",\"85\":\"spotify:track:1Dr1fXbc2IxaK1Mu8P8Khz\",\"86\":\"spotify:track:2nTsKOXIVGDf2iPeVQO2Gm\",\"87\":\"spotify:track:6QewNVIDKdSl8Y3ycuHIei\",\"88\":\"spotify:track:37EJtTS7jT5WUyXGZzrwnI\",\"89\":\"spotify:track:2JdzB67NvIa90K4gEZPLeX\",\"90\":\"spotify:track:56SkdBKyR2zOkjk6wVFI9s\",\"91\":\"spotify:track:4d9RTWdrFLVAGhdzvqxkwn\",\"92\":\"spotify:track:1YUpPVItgM6nYkordbSRLK\",\"93\":\"spotify:track:5yEPxDjbbzUzyauGtnmVEC\",\"94\":\"spotify:track:5UWwZ5lm5PKu6eKsHAGxOk\",\"95\":\"spotify:track:3HfB5hBU0dmBt8T0iCmH42\",\"96\":\"spotify:track:4P5KoWXOxwuobLmHXLMobV\",\"97\":\"spotify:track:11LmqTE2naFULdEP94AUBa\",\"98\":\"spotify:track:0Puj4YlTm6xNzDDADXHMI9\",\"99\":\"spotify:track:1EzeXGaZdqsA4Nst1AIAL2\",\"100\":\"spotify:track:4Qbjmdlv1eZDD1u8SWe1pt\",\"101\":\"spotify:track:5b88tNINg4Q4nrRbrCXUmg\",\"102\":\"spotify:track:1mVSv7n01D7MELio2HUVU1\",\"103\":\"spotify:track:2rgqPSIRAfaO2MGo9smdSX\",\"104\":\"spotify:track:63eVV2bUab72OXNfpkniMn\",\"105\":\"spotify:track:2ShPwzhzws28zqNvsVcAvi\",\"106\":\"spotify:track:1iBbRj18fUYKWM0vu8PaAP\",\"107\":\"spotify:track:66wpCqkkM6MrxXSbfgmsrh\",\"108\":\"spotify:track:7IoKA8yRibsK8Ryy4SH2NL\",\"109\":\"spotify:track:28285KFbyCq8sJofn58qlD\",\"110\":\"spotify:track:4WbNyQy4wVdfopMrApBWQA\",\"111\":\"spotify:track:5ZnOG96081GKWdYzICCzIu\",\"112\":\"spotify:track:2sZtaJ4RFbRAAOBKWEeR4H\",\"113\":\"spotify:track:7r3Yg7Jl8tIfCryEaaYf41\",\"114\":\"spotify:track:3vbqb78xzvD3CJl7ZeW83c\",\"115\":\"spotify:track:7tN0lSLVlSPo9XQSfck0Wf\",\"116\":\"spotify:track:74EV0g12ihUoOUXMprFpZB\",\"117\":\"spotify:track:1f3yAtsJtY87CTmM8RLnxf\",\"118\":\"spotify:track:2gSyc23Hua25fqSFpgAh6W\",\"119\":\"spotify:track:0AvV49z4EPz5ocYN7eKGAK\",\"120\":\"spotify:track:4EnkwZd0UJAuHpNMMemQaA\",\"121\":\"spotify:track:11d9oUiwHuYt216EFA2tiz\",\"122\":\"spotify:track:6ORqU0bHbVCRjXm9AjyHyZ\",\"123\":\"spotify:track:5iEDwEp82uLN3X6llJdqen\",\"124\":\"spotify:track:5lA6mFOvaiienokVbTZEQx\",\"125\":\"spotify:track:2ahnofp2LbBWDXcJbMaSTu\",\"126\":\"spotify:track:12BbMJsJi65mxneq6c9Lm7\",\"127\":\"spotify:track:72vzpLLJZgvG7TqKar57TX\",\"128\":\"spotify:track:2Cy7QY8HPLk925AyNAt6OG\",\"129\":\"spotify:track:225xvV8r1yKMHErSWivnow\",\"130\":\"spotify:track:1OxcIUqVmVYxT6427tbhDW\",\"131\":\"spotify:track:4PgPnzbAgjCQ2eA6YAWcUw\",\"132\":\"spotify:track:0pMUR7Uvp6vxlbG0qBFvgM\",\"133\":\"spotify:track:698mT3CTx8JEnp7twwJrGG\",\"134\":\"spotify:track:6Sy9BUbgFse0n0LPA5lwy5\",\"135\":\"spotify:track:4pmc2AxSEq6g7hPVlJCPyP\",\"136\":\"spotify:track:4YVYP7FcWBpSgxKBCOt1vi\",\"137\":\"spotify:track:3eGBESLT08agei7veoLLlz\",\"138\":\"spotify:track:7DCPsy8KEB4mwcvUGqlhzK\",\"139\":\"spotify:track:7MooGz4ZPE4bNxjFegR6Jx\",\"140\":\"spotify:track:6uQzAqKxdVQGzfVOURuE5u\",\"141\":\"spotify:track:5baXzOMmD0sf26hayRqfqI\",\"142\":\"spotify:track:207qh0NdViBam3cvekExEK\",\"143\":\"spotify:track:3y4uSQwxHckyRcvafEilkN\",\"144\":\"spotify:track:2BVyCBKJYlSdxic0yVpJ9C\",\"145\":\"spotify:track:44v1lCwHoWcXVskA2pNWF4\",\"146\":\"spotify:track:0SSsIzS8spd7kqSqpWDoW7\",\"147\":\"spotify:track:696vpg0aBvBxpZAuasmg15\",\"148\":\"spotify:track:6x1jtOK65CerkIyahXAv6u\",\"149\":\"spotify:track:2HL7EWAjEm5Bhpr1iWHA4C\",\"150\":\"spotify:track:0WTQ3OVvyuD49BfO99Q6y7\",\"151\":\"spotify:track:2SStoQujJoT3scuaKSONQb\",\"152\":\"spotify:track:6IxUlX8CHRa3jJzBhXCY1Y\",\"153\":\"spotify:track:22LoqvfTmYOBb50ZwaMGHB\",\"154\":\"spotify:track:3wm0791j8FPkG7RUYljgr8\",\"155\":\"spotify:track:5eeMft4YZx0Xdf9yJPNZJY\",\"156\":\"spotify:track:0VaIsQoIQY10uxBrOyZ5cQ\",\"157\":\"spotify:track:1nDd4UDYY835vKnAknF7yX\",\"158\":\"spotify:track:5vFshmrfuOng89bVtW33J9\",\"159\":\"spotify:track:6xbr3UzgN8Jq0CVuLSDowa\",\"160\":\"spotify:track:6kRLO37FUloOrKiv9VpkaN\",\"161\":\"spotify:track:4u6uSOaysf3XroqLrlDKYq\",\"162\":\"spotify:track:1T4FALKRHCfXXdJTnPQFWU\",\"163\":\"spotify:track:4KtrE35pTuqwNc22QP58RT\",\"164\":\"spotify:track:44CZRkOxv7UItaAUmh8PgN\",\"165\":\"spotify:track:5whjxzYUc8eXlfrvlh9Y9B\",\"166\":\"spotify:track:2GsteFRbq6UyW0WfUWgQtX\",\"167\":\"spotify:track:4OEOEsOhlzDqQuewiuPJAc\",\"168\":\"spotify:track:6fmbKY1teQRfsIqVRlnTsM\",\"169\":\"spotify:track:3sebhPeI0oFc6VtzK4StSx\",\"170\":\"spotify:track:3PYu1Z5TiIKZu8vsTm7zWS\",\"171\":\"spotify:track:4FGjS3XlKYd7qUne16NBzg\",\"172\":\"spotify:track:5YOqfElMeshCt5oRk4yAgx\",\"173\":\"spotify:track:42CeaId2XNlxugDvyqHfDf\",\"174\":\"spotify:track:0Qh38w01QRXK6KHIv0e3hb\",\"175\":\"spotify:track:2iMZGE1skdqaUrCp3nTHDc\",\"176\":\"spotify:track:1aJ1xeEQ1ivKGnTeuYolJk\",\"177\":\"spotify:track:0CFDp4qPqkbFObEH3p45x3\",\"178\":\"spotify:track:6DKsROaCO7Yodqawk0P1mY\",\"179\":\"spotify:track:2IQB5iBapo0Y37Yc0PtIZc\",\"180\":\"spotify:track:4mxWSdf71VFO52qFeY0fZt\",\"181\":\"spotify:track:0DY4UBNKO9sNcnKZYA5JeM\",\"182\":\"spotify:track:7vGuf3Y35N4wmASOKLUVVU\",\"183\":\"spotify:track:7qs2GAglLWfxEfmO8u2u0A\",\"184\":\"spotify:track:1xznGGDReH1oQq0xzbwXa3\",\"185\":\"spotify:track:2nUJvBO87SkxCViQsLc9Zr\",\"186\":\"spotify:track:39IsH7B5byx8NRlEKlZVg9\",\"187\":\"spotify:track:5OQsiBsky2k2kDKy2bX2eT\",\"188\":\"spotify:track:5VGlqQANWDKJFl0MBG3sg2\",\"189\":\"spotify:track:7x8dCjCr0x6x2lXKujYD34\",\"190\":\"spotify:track:4bdEXTweGw1O4IEMbnn5Tv\",\"191\":\"spotify:track:4Uc9gZfrhErkql10xgKDWj\",\"192\":\"spotify:track:3lPr8ghNDBLc2uZovNyLs9\",\"193\":\"spotify:track:5OQGeJ1ceykovrykZsGhqL\",\"194\":\"spotify:track:3Wyc7M8twhxeyaC51BcQYb\",\"195\":\"spotify:track:5EnYT6F7wEcdege6mDHEfO\",\"196\":\"spotify:track:5jafMI8FLibnjkYTZ33m0c\",\"197\":\"spotify:track:0F1sjS4EhR1Rwiq4ir6mqZ\",\"198\":\"spotify:track:38rMZCtAPuRgOuV3pyFDmF\"},\"artist\":{\"0\":\"Slushii\",\"1\":\"Lorde, Khalid, Post Malone, SZA\",\"2\":\"Sickly\",\"3\":\"Jack Stereo\",\"4\":\"Jai Wolf\",\"5\":\"Jerry Folk\",\"6\":\"Arty\",\"7\":\"Electric Mantis\",\"8\":\"Embee\",\"9\":\"Bassnectar\",\"10\":\"Jaffna\",\"11\":\"deadmau5\",\"12\":\"Anzo\",\"13\":\"TOKiMONSTA\",\"14\":\"Tycho\",\"15\":\"Solstis\",\"16\":\"Milk Malone\",\"17\":\"Rodriguez Jr.\",\"18\":\"Take\\\\/Five\",\"19\":\"Matt Fax\",\"20\":\"Ms Bronx\",\"21\":\"Popeska\",\"22\":\"ODESZA\",\"23\":\"Polographia, Moonbase Commander\",\"24\":\"Bicep\",\"25\":\"Matt Lange\",\"26\":\"The Jacksons\",\"27\":\"ODESZA\",\"28\":\"ODESZA, Briana Marela\",\"29\":\"Purity Ring\",\"30\":\"Ellie Goulding\",\"31\":\"ODESZA, Zyra\",\"32\":\"alt-J\",\"33\":\"Sarah Jaffe\",\"34\":\"Flight Facilities\",\"35\":\"ODESZA\",\"36\":\"SZA, Maroon 5\",\"37\":\"Earth, Wind & Fire, The Emotions\",\"38\":\"Bill Withers\",\"39\":\"Supertramp\",\"40\":\"Donna Summer\",\"41\":\"Electric Light Orchestra\",\"42\":\"Carl Douglas\",\"43\":\"Bee Gees\",\"44\":\"Fleetwood Mac\",\"45\":\"Frankie Valli & The Four Seasons\",\"46\":\"Kansas\",\"47\":\"Portugal. The Man\",\"48\":\"Portugal. The Man\",\"49\":\"Portugal. The Man, ZHU\",\"50\":\"David Guetta, Afrojack, Charli XCX, French Montana\",\"51\":\"DJ Snake, Lauv\",\"52\":\"Illenium, Said the Sky\",\"53\":\"Sam Feldt, Alex Schulz\",\"54\":\"Portugal. The Man\",\"55\":\"Feed Me, Crystal Fighters\",\"56\":\"Lamb\",\"57\":\"Broods\",\"58\":\"Maya Payne\",\"59\":\"Phantogram\",\"60\":\"Sam Feldt, Kimberly Anne\",\"61\":\"The Chainsmokers, ROZES\",\"62\":\"Chet Faker, Flume\",\"63\":\"Pretty Lights\",\"64\":\"Portugal. The Man\",\"65\":\"George Benson\",\"66\":\"Engelbert Humperdinck\",\"67\":\"Herbie Hancock\",\"68\":\"Diana Ross\",\"69\":\"New York City\",\"70\":\"Earth, Wind & Fire, The Emotions\",\"71\":\"KC & The Sunshine Band\",\"72\":\"Fleet Foxes\",\"73\":\"Fleet Foxes\",\"74\":\"Fleet Foxes\",\"75\":\"Leonard Cohen\",\"76\":\"Crosby, Stills, Nash & Young\",\"77\":\"Soundgarden\",\"78\":\"blink-182\",\"79\":\"Depeche Mode, Francois Kevorkian\",\"80\":\"Oasis\",\"81\":\"Soundgarden\",\"82\":\"Blur\",\"83\":\"blink-182\",\"84\":\"The Smashing Pumpkins\",\"85\":\"Green Day\",\"86\":\"Radiohead\",\"87\":\"Pearl Jam\",\"88\":\"Everclear\",\"89\":\"The Presidents Of The United States Of America\",\"90\":\"Toadies\",\"91\":\"R.E.M.\",\"92\":\"Stone Temple Pilots\",\"93\":\"The Verve\",\"94\":\"Foo Fighters\",\"95\":\"Radiohead\",\"96\":\"Nirvana\",\"97\":\"Nirvana\",\"98\":\"Beastie Boys\",\"99\":\"The Smashing Pumpkins\",\"100\":\"Pearl Jam\",\"101\":\"Pharrell Williams\",\"102\":\"Sylvester\",\"103\":\"ABBA\",\"104\":\"CHIC\",\"105\":\"The 5th Dimension\",\"106\":\"Sister Sledge\",\"107\":\"Bee Gees\",\"108\":\"The O\\'Jays\",\"109\":\"The O\\'Jays\",\"110\":\"Hermitude\",\"111\":\"NERO, Porter Robinson\",\"112\":\"Jamie xx, Romy\",\"113\":\"Duke Dumont\",\"114\":\"Jasmine Thompson, Felix Jaehn\",\"115\":\"Miley Cyrus\",\"116\":\"R.E.M.\",\"117\":\"Nirvana\",\"118\":\"Destiny\\'s Child\",\"119\":\"Blackstreet, Dr. Dre, Queen Pen\",\"120\":\"Semisonic\",\"121\":\"Vanilla Ice\",\"122\":\"Green Day\",\"123\":\"SNAP!\",\"124\":\"Lou Bega\",\"125\":\"Haddaway\",\"126\":\"Ace of Base\",\"127\":\"Gliese\",\"128\":\"Michael Jackson\",\"129\":\"Aerosmith\",\"130\":\"Lenny Kravitz\",\"131\":\"Hanson\",\"132\":\"Alice DJ\",\"133\":\"Oasis\",\"134\":\"Darude\",\"135\":\"Destiny\\'s Child\",\"136\":\"Rednex\",\"137\":\"N.W.A.\",\"138\":\"2Pac\",\"139\":\"Tom Petty\",\"140\":\"Los Amigos Invisibles\",\"141\":\"Tom Odell\",\"142\":\"Vance Joy\",\"143\":\"Declan J Donovan\",\"144\":\"Noah Kahan\",\"145\":\"George Byrne\",\"146\":\"Gretta Ray\",\"147\":\"Allman Brown\",\"148\":\"Terrible Sons\",\"149\":\"Michael Kiwanuka\",\"150\":\"Passenger\",\"151\":\"Matt Corby\",\"152\":\"SOAK\",\"153\":\"Daggy Man\",\"154\":\"James TW\",\"155\":\"The Middle East\",\"156\":\"Francis and the Lights, Chance The Rapper\",\"157\":\"Emma Louise\",\"158\":\"Foo Fighters\",\"159\":\"The National\",\"160\":\"Beck\",\"161\":\"Dead Favours\",\"162\":\"AWOLNATION\",\"163\":\"Chet Faker, Flume\",\"164\":\"Cherub\",\"165\":\"Dean Lewis\",\"166\":\"Jessica Mauboy\",\"167\":\"Maroon 5, A$AP Rocky\",\"168\":\"Galantis\",\"169\":\"Arcade Fire\",\"170\":\"Arcade Fire\",\"171\":\"Arcade Fire\",\"172\":\"Six60\",\"173\":\"Post Malone\",\"174\":\"P!nk\",\"175\":\"City Calm Down\",\"176\":\"Hook N Sling, Parson James, Betty Who\",\"177\":\"Empire of the Sun\",\"178\":\"Nicole Millar\",\"179\":\"Lulleaux, Giang Pham\",\"180\":\"SZA, Maroon 5\",\"181\":\"Freedom Fry\",\"182\":\"Marshmello, Khalid\",\"183\":\"Loote\",\"184\":\"Drake, WizKid, Kyla\",\"185\":\"Big Shaq\",\"186\":\"Maggie Lindemann, CADE, Cheat Codes\",\"187\":\"Foo Fighters\",\"188\":\"Kings of Leon\",\"189\":\"Foo Fighters\",\"190\":\"A$AP Rocky, Skepta, A$AP Nast\",\"191\":\"Wolf Larsen\",\"192\":\"Muse\",\"193\":\"The Corrs\",\"194\":\"2Pac, Talent\",\"195\":\"Drake\",\"196\":\"Radiohead\",\"197\":\"The Verve\",\"198\":\"M|O|O|N\"},\"album\":{\"0\":\"Brain Freeze\",\"1\":\"Homemade Dynamite (Feat. Khalid, Post Malone & SZA) [REMIX]\",\"2\":\"Upside Down\",\"3\":\"Difference\",\"4\":\"Kindred Spirits\",\"5\":\"Take Three\",\"6\":\"Glorious\",\"7\":\"Flips and Flops, Drips and Drops\",\"8\":\"Moons\",\"9\":\"Reflective (Part 1)\",\"10\":\"Ripples\",\"11\":\"stuff i used to do\",\"12\":\"Moonbound EP\",\"13\":\"Lune Rouge\",\"14\":\"Epoch\",\"15\":\"Echoes\",\"16\":\"Amazonas\",\"17\":\"Beatboxer\",\"18\":\"Found Footage\",\"19\":\"Contrast\",\"20\":\"Flying 101\",\"21\":\"I Believe\",\"22\":\"A Moment Apart\",\"23\":\"Natural Remixes EP\",\"24\":\"Bicep\",\"25\":\"All You Need to See\",\"26\":\"100 Hits Of The \\'70s\",\"27\":\"In Return\",\"28\":\"In Return\",\"29\":\"Shrines\",\"30\":\"Anything Could Happen\",\"31\":\"In Return\",\"32\":\"An Awesome Wave\",\"33\":\"Don\\'t Disconnect\",\"34\":\"Crave You\",\"35\":\"My Friends Never Die\",\"36\":\"Red Pill Blues (Deluxe)\",\"37\":\"I Am\",\"38\":\"Still Bill\",\"39\":\"Breakfast In America (Deluxe Edition)\",\"40\":\"Bad Girls\",\"41\":\"Out of the Blue\",\"42\":\"100 70s\",\"43\":\"Saturday Night Fever [The Original Movie Soundtrack]\",\"44\":\"Rumours (Super Deluxe)\",\"45\":\"The Very Best Of Frankie Valli & The 4 Seasons (US Release)\",\"46\":\"The Best Year Of My Life: 1977\",\"47\":\"Woodstock\",\"48\":\"Woodstock\",\"49\":\"Feel It Still (ZHU Remix)\",\"50\":\"Dirty Sexy Money (feat. Charli XCX & French Montana)\",\"51\":\"A Different Way (with Lauv)\",\"52\":\"Awake\",\"53\":\"Be My Lover\",\"54\":\"In The Mountain In The Cloud\",\"55\":\"Love Is All I Got\",\"56\":\"5\",\"57\":\"Evergreen\",\"58\":\"Fragile\",\"59\":\"Chapter One\",\"60\":\"Show Me Love\",\"61\":\"Roses\",\"62\":\"Lockjaw\",\"63\":\"The Hidden Shades\",\"64\":\"Woodstock\",\"65\":\"Top 100 80s\",\"66\":\"Engelbert Humperdink - The Greatest Hits And More\",\"67\":\"DISCO - 100 Hit\\'s - Dance floor fillers from the 70s and 80s inc. The Jacksons, Boney M & Earth Wind & Fire\",\"68\":\"Motown: The Complete No. 1\\'s\",\"69\":\"Soul City\",\"70\":\"The Eternal Dance\",\"71\":\"Disco Fever\",\"72\":\"Helplessness Blues\",\"73\":\"Fleet Foxes\",\"74\":\"Helplessness Blues\",\"75\":\"Various Positions\",\"76\":\"Deja Vu\",\"77\":\"Superunknown (Deluxe Edition)\",\"78\":\"Enema Of The State\",\"79\":\"Personal Jesus\",\"80\":\"(What\\'s The Story) Morning Glory? (Deluxe Edition) [Remastered]\",\"81\":\"Superunknown (20th Anniversary)\",\"82\":\"Blur [Special Edition]\",\"83\":\"Enema Of The State\",\"84\":\"Siamese Dream (2011 - Remaster)\",\"85\":\"Dookie\",\"86\":\"OK Computer\",\"87\":\"Ten\",\"88\":\"Sparkle And Fade\",\"89\":\"The Presidents of The United States of America: Ten Year Super Bonus Special Anniversary Edition\",\"90\":\"Rubberneck\",\"91\":\"Out Of Time\",\"92\":\"Only Dying (Demo Edit)\",\"93\":\"Urban Hymns\",\"94\":\"The Colour And The Shape\",\"95\":\"Pablo Honey [Collector\\'s Edition]\",\"96\":\"Nevermind (Remastered)\",\"97\":\"In Utero - 20th Anniversary - Deluxe Edition\",\"98\":\"Ill Communication\",\"99\":\"Mellon Collie And The Infinite Sadness\",\"100\":\"Ten\",\"101\":\"G I R L\",\"102\":\"A Night To Remember\",\"103\":\"ABBA Gold\",\"104\":\"Definitive Groove: Chic\",\"105\":\"The Definitive 60\\'s (sixties)\",\"106\":\"The Best Of Sister Sledge (1973-1985)\",\"107\":\"Saturday Night Fever [The Original Movie Soundtrack]\",\"108\":\"The Ultimate O\\'Jays\",\"109\":\"Back Stabbers\",\"110\":\"Parallel Paradise\",\"111\":\"The Thrill (Porter Robinson Remix)\",\"112\":\"In Colour - Preview White Label\",\"113\":\"EP1\",\"114\":\"Ain\\'t Nobody (Loves Me Better)\",\"115\":\"Breakout\",\"116\":\"Out Of Time (U.S. Version)\",\"117\":\"Nevermind (Deluxe Edition)\",\"118\":\"The Writing\\'s On The Wall\",\"119\":\"Another Level\",\"120\":\"Feeling Strangely Fine\",\"121\":\"To The Extreme\",\"122\":\"Nimrod\",\"123\":\"SNAP! The Power Greatest Hits\",\"124\":\"King of Mambo\",\"125\":\"What is Love - Remix\",\"126\":\"Happy Nation (Remastered)\",\"127\":\"Best of Dance Disco Music Hits 80\\'s 90\\'s. La Mejor M\\\\u00fasica Dance y Disco de los 80 90\",\"128\":\"The Essential Michael Jackson\",\"129\":\"Armageddon - The Album\",\"130\":\"5\",\"131\":\"Guilty Pleasures (International Version)\",\"132\":\"Who Needs Guitars Anyway?\",\"133\":\"(What\\'s the Story) Morning Glory\",\"134\":\"Before the Storm, Special Edition\",\"135\":\"The Writing\\'s On The Wall\",\"136\":\"Die Ultimativen Kult Klassiker: 90\\'s\",\"137\":\"N.W.A. Greatest Hits (World)\",\"138\":\"California Love\",\"139\":\"Wildflowers\",\"140\":\"El Paradise\",\"141\":\"Magnetised (Acoustic)\",\"142\":\"God Loves You When You\\'re Dancing\",\"143\":\"Fallen so Young\",\"144\":\"Sink\",\"145\":\"Stars & Stripes\",\"146\":\"Elsewhere\",\"147\":\"Sweetest Thing\",\"148\":\"When I Don\\'t Speak\",\"149\":\"Cold Little Heart (Radio Edit)\",\"150\":\"The Boy Who Cried Wolf\",\"151\":\"Telluric\",\"152\":\"Spotify Sessions\",\"153\":\"A Lazy Kind Of Pain\",\"154\":\"When You Love Someone (Acoustic)\",\"155\":\"Recordings Of The Middle East\",\"156\":\"May I Have This Dance (Remix) [feat. Chance the Rapper]\",\"157\":\"Supercry\",\"158\":\"The Sky Is A Neighborhood\",\"159\":\"Day I Die\",\"160\":\"Up All Night\",\"161\":\"High Flying\",\"162\":\"Passion\",\"163\":\"Lockjaw\",\"164\":\"Year of the Caprese\",\"165\":\"Need You Now (Acoustic)\",\"166\":\"Fallin\\' (Original Song from the TV Series \\\\\"The Secret Daughter\\\\\")\",\"167\":\"Whiskey (feat. A$AP Rocky)\",\"168\":\"Peanut Butter Jelly\",\"169\":\"Funeral\",\"170\":\"Funeral\",\"171\":\"Funeral\",\"172\":\"SIX60\",\"173\":\"Candy Paint\",\"174\":\"Beautiful Trauma\",\"175\":\"In A Restless House\",\"176\":\"If You\\'re Hearing This\",\"177\":\"On Our Way Home\",\"178\":\"Blindfolded\",\"179\":\"Contact\",\"180\":\"What Lovers Do (feat. SZA)\",\"181\":\"Brave (Remix)\",\"182\":\"Silence\",\"183\":\"High Without Your Love\",\"184\":\"Views\",\"185\":\"Man\\'s Not Hot\",\"186\":\"Pretty Girl (Cheat Codes X CADE Remix)\",\"187\":\"There Is Nothing Left To Lose\",\"188\":\"Only By The Night\",\"189\":\"Echoes, Silence, Patience & Grace\",\"190\":\"Vicious EP\",\"191\":\"Quiet at the Kitchen Door\",\"192\":\"Black Holes And Revelations (Updated 09 version)\",\"193\":\"In Blue\",\"194\":\"2Pac Greatest Hits (Explicit Version)\",\"195\":\"Signs\",\"196\":\"The Bends\",\"197\":\"Urban Hymns (Deluxe \\\\/ Remastered 2016)\",\"198\":\"Moon - EP\"},\"title\":{\"0\":\"Sapient Dream\",\"1\":\"Homemade Dynamite (Feat. Khalid, Post Malone & SZA) - REMIX\",\"2\":\"Upside Down\",\"3\":\"Difference\",\"4\":\"Indian Summer\",\"5\":\"Take Three\",\"6\":\"Last Kiss\",\"7\":\"Flips and Flops, Drips and Drops\",\"8\":\"Moons\",\"9\":\"Arps Of Revoluci\\\\u00f3n\",\"10\":\"Immersion\",\"11\":\"Unspecial effects\",\"12\":\"Moonbound\",\"13\":\"Rose\\'s Thorn\",\"14\":\"Epoch\",\"15\":\"Echoes\",\"16\":\"Amazonas\",\"17\":\"Lila\",\"18\":\"Mirage\",\"19\":\"Landside\",\"20\":\"Flying 101\",\"21\":\"I Believe\",\"22\":\"Thin Floors And Tall Ceilings\",\"23\":\"Last - Moonbase Commander Remix\",\"24\":\"Drift\",\"25\":\"All You Need to See (Clever Intro)\",\"26\":\"Blame It on the Boogie\",\"27\":\"Koto\",\"28\":\"For Us (feat. Briana Marela)\",\"29\":\"Obedear\",\"30\":\"Anything Could Happen\",\"31\":\"Say My Name (feat. Zyra)\",\"32\":\"Breezeblocks\",\"33\":\"Lover Girl\",\"34\":\"Crave You (Adventure Club Remix)\",\"35\":\"My Friends Never Die\",\"36\":\"What Lovers Do (feat. SZA)\",\"37\":\"Boogie Wonderland\",\"38\":\"Lean on Me\",\"39\":\"The Logical Song - Remastered 2010\",\"40\":\"Hot Stuff\",\"41\":\"Mr. Blue Sky\",\"42\":\"Kung Fu Fighting\",\"43\":\"Stayin\\' Alive - 2007 Remastered Version Saturday Night Fever\",\"44\":\"The Chain - 2004 Remastered Edition\",\"45\":\"December, 1963 (Oh What A Night!)\",\"46\":\"Carry On Wayward Son\",\"47\":\"Tidal Wave\",\"48\":\"Live In The Moment\",\"49\":\"Feel It Still - ZHU Remix\",\"50\":\"Dirty Sexy Money (feat. Charli XCX & French Montana)\",\"51\":\"A Different Way (with Lauv)\",\"52\":\"Where\\'d U Go\",\"53\":\"Be My Lover\",\"54\":\"Head Is A Flame (Cool With It)\",\"55\":\"Love Is All I Got\",\"56\":\"Another Language\",\"57\":\"Everytime\",\"58\":\"Fragile\",\"59\":\"When I\\'m Small (RAC MIX)\",\"60\":\"Show Me Love\",\"61\":\"Roses\",\"62\":\"What About Us\",\"63\":\"Lost And Found (ODESZA Remix)\",\"64\":\"Easy Tiger\",\"65\":\"Give Me The Night\",\"66\":\"Quando Quando Quando\",\"67\":\"I Thought It Was You\",\"68\":\"Upside Down\",\"69\":\"I\\'m Doin\\' Fine Now\",\"70\":\"Boogie Wonderland\",\"71\":\"Give It Up\",\"72\":\"Lorelai\",\"73\":\"Sun It Rises\",\"74\":\"Battery Kinzie\",\"75\":\"Hallelujah\",\"76\":\"Carry On\",\"77\":\"Black Hole Sun\",\"78\":\"What\\'s My Age Again?\",\"79\":\"Personal Jesus - Original Seven Inch Version\",\"80\":\"Don\\'t Look Back In Anger - Remastered\",\"81\":\"The Day I Tried To Live\",\"82\":\"Song 2 - 2012 Remastered Version\",\"83\":\"All The Small Things\",\"84\":\"Cherub Rock\",\"85\":\"When I Come Around\",\"86\":\"Paranoid Android\",\"87\":\"Even Flow\",\"88\":\"Santa Monica\",\"89\":\"Lump\",\"90\":\"Possum Kingdom\",\"91\":\"Losing My Religion\",\"92\":\"Only Dying - Demo Edit\",\"93\":\"Bitter Sweet Symphony\",\"94\":\"Everlong\",\"95\":\"Creep\",\"96\":\"Come As You Are\",\"97\":\"Heart-Shaped Box\",\"98\":\"Sabotage\",\"99\":\"Bullet With Butterfly Wings\",\"100\":\"Alive\",\"101\":\"Happy - From \\\\\"Despicable Me 2\\\\\"\",\"102\":\"Do You Wanna Funk\",\"103\":\"Dancing Queen\",\"104\":\"I Want Your Love - 2006 Remastered Version\",\"105\":\"Aquarius\\\\/Let The Sunshine In - Digitally Remastered 1997\",\"106\":\"He\\'s The Greatest Dancer\",\"107\":\"Night Fever - 2007 Remastered Version Saturday Night Fever\",\"108\":\"I Love Music\",\"109\":\"Love Train\",\"110\":\"HyperParadise - Flume Remix\",\"111\":\"The Thrill - Porter Robinson Remix\",\"112\":\"Loud Places\",\"113\":\"The Giver\",\"114\":\"Ain\\'t Nobody (Loves Me Better)\",\"115\":\"Breakout\",\"116\":\"Losing My Religion\",\"117\":\"Smells Like Teen Spirit\",\"118\":\"Say My Name\",\"119\":\"No Diggity\",\"120\":\"Closing Time\",\"121\":\"Ice Ice Baby\",\"122\":\"Good Riddance (Time of Your Life)\",\"123\":\"Rhythm Is A Dancer - 7\\\\\" Edit\",\"124\":\"Mambo No. 5 (A Little Bit of...)\",\"125\":\"What Is Love\",\"126\":\"All That She Wants\",\"127\":\"The Rythm of the Night\",\"128\":\"Black or White - Single Version\",\"129\":\"I Don\\'t Want to Miss a Thing\",\"130\":\"Fly Away\",\"131\":\"MMMBop - Single Version\",\"132\":\"Better Off Alone\",\"133\":\"Don\\'t Look Back in Anger\",\"134\":\"Sandstorm\",\"135\":\"Jumpin\\', Jumpin\\'\",\"136\":\"Cotton Eye Joe\",\"137\":\"Straight Outta Compton - Extended Mix - Edit\",\"138\":\"California Love\",\"139\":\"You Don\\'t Know How It Feels\",\"140\":\"Si No Est\\\\u00e1s T\\\\u00fa\",\"141\":\"Magnetised - Acoustic\",\"142\":\"Emmylou\",\"143\":\"Fallen so Young\",\"144\":\"Sink\",\"145\":\"Stars & Stripes\",\"146\":\"Unexpected Feeling\",\"147\":\"Sweetest Thing\",\"148\":\"When I Don\\'t Speak\",\"149\":\"Cold Little Heart - Radio Edit\",\"150\":\"Sweet Louise\",\"151\":\"Good To Be Alone\",\"152\":\"B a noBody (Spotify Session)\",\"153\":\"Little Whip\",\"154\":\"When You Love Someone - Acoustic\",\"155\":\"Blood\",\"156\":\"May I Have This Dance (Remix) [feat. Chance the Rapper]\",\"157\":\"Underflow\",\"158\":\"The Sky Is A Neighborhood\",\"159\":\"Day I Die\",\"160\":\"Up All Night\",\"161\":\"High Flying\",\"162\":\"Passion\",\"163\":\"Drop the Game\",\"164\":\"Doses & Mimosas\",\"165\":\"Need You Now - Acoustic\",\"166\":\"Fallin\\' - Original Song from the TV Series \\\\\"The Secret Daughter\\\\\"\",\"167\":\"Whiskey (feat. A$AP Rocky)\",\"168\":\"Peanut Butter Jelly\",\"169\":\"Une annee sans lumiere\",\"170\":\"Neighborhood #3 (Power Out)\",\"171\":\"In The Backseat\",\"172\":\"Don\\\\u2019t Give It Up\",\"173\":\"Candy Paint\",\"174\":\"What About Us\",\"175\":\"Your Fix\",\"176\":\"If You\\'re Hearing This\",\"177\":\"On Our Way Home\",\"178\":\"Blindfolded\",\"179\":\"Contact\",\"180\":\"What Lovers Do (feat. SZA)\",\"181\":\"Brave (Remix)\",\"182\":\"Silence\",\"183\":\"High Without Your Love\",\"184\":\"One Dance\",\"185\":\"Man\\'s Not Hot\",\"186\":\"Pretty Girl - Cheat Codes X CADE Remix\",\"187\":\"Learn to Fly\",\"188\":\"Use Somebody\",\"189\":\"The Pretender\",\"190\":\"Ghost Ride\",\"191\":\"Kitchen Door\",\"192\":\"Supermassive Black Hole\",\"193\":\"Breathless\",\"194\":\"Changes - 1998 Greatest Hits (Explicit)\",\"195\":\"Signs\",\"196\":\"High And Dry\",\"197\":\"The Drugs Don\\'t Work\",\"198\":\"Hydrogen\"},\"danceability\":{\"0\":0.498,\"1\":0.541,\"2\":0.585,\"3\":0.756,\"4\":0.432,\"5\":0.682,\"6\":0.642,\"7\":0.803,\"8\":0.496,\"9\":0.521,\"10\":0.66,\"11\":0.531,\"12\":0.611,\"13\":0.537,\"14\":0.558,\"15\":0.492,\"16\":0.58,\"17\":0.806,\"18\":0.819,\"19\":0.305,\"20\":0.743,\"21\":0.559,\"22\":0.218,\"23\":0.6,\"24\":0.507,\"25\":0.328,\"26\":0.775,\"27\":0.501,\"28\":0.413,\"29\":0.605,\"30\":0.514,\"31\":0.749,\"32\":0.616,\"33\":0.621,\"34\":0.634,\"35\":0.489,\"36\":0.795,\"37\":0.802,\"38\":0.619,\"39\":0.625,\"40\":0.823,\"41\":0.388,\"42\":0.612,\"43\":0.704,\"44\":0.545,\"45\":0.727,\"46\":0.403,\"47\":0.551,\"48\":0.546,\"49\":0.852,\"50\":0.721,\"51\":0.781,\"52\":0.464,\"53\":0.748,\"54\":0.574,\"55\":0.617,\"56\":0.688,\"57\":0.452,\"58\":0.642,\"59\":0.578,\"60\":0.581,\"61\":0.713,\"62\":0.63,\"63\":0.332,\"64\":0.406,\"65\":0.854,\"66\":0.284,\"67\":0.566,\"68\":0.909,\"69\":0.723,\"70\":0.801,\"71\":0.791,\"72\":0.454,\"73\":0.577,\"74\":0.596,\"75\":0.28,\"76\":0.463,\"77\":0.354,\"78\":0.403,\"79\":0.637,\"80\":0.333,\"81\":0.472,\"82\":0.674,\"83\":0.439,\"84\":0.382,\"85\":0.531,\"86\":0.252,\"87\":0.394,\"88\":0.491,\"89\":0.499,\"90\":0.653,\"91\":0.7,\"92\":0.432,\"93\":0.389,\"94\":0.412,\"95\":0.532,\"96\":0.505,\"97\":0.494,\"98\":0.324,\"99\":0.389,\"100\":0.298,\"101\":0.647,\"102\":0.814,\"103\":0.512,\"104\":0.705,\"105\":0.298,\"106\":0.7,\"107\":0.729,\"108\":0.643,\"109\":0.744,\"110\":0.603,\"111\":0.439,\"112\":0.646,\"113\":0.785,\"114\":0.775,\"115\":0.445,\"116\":0.672,\"117\":0.512,\"118\":0.522,\"119\":0.868,\"120\":0.481,\"121\":0.98,\"122\":0.475,\"123\":0.794,\"124\":0.607,\"125\":0.683,\"126\":0.707,\"127\":0.65,\"128\":0.741,\"129\":0.383,\"130\":0.586,\"131\":0.692,\"132\":0.667,\"133\":0.349,\"134\":0.528,\"135\":0.771,\"136\":0.722,\"137\":0.773,\"138\":0.658,\"139\":0.765,\"140\":0.513,\"141\":0.487,\"142\":0.542,\"143\":0.552,\"144\":0.557,\"145\":0.33,\"146\":0.425,\"147\":0.546,\"148\":0.574,\"149\":0.638,\"150\":0.659,\"151\":0.345,\"152\":0.42,\"153\":0.545,\"154\":0.712,\"155\":0.487,\"156\":0.784,\"157\":0.384,\"158\":0.358,\"159\":0.432,\"160\":0.642,\"161\":0.5,\"162\":0.646,\"163\":0.559,\"164\":0.775,\"165\":0.599,\"166\":0.729,\"167\":0.597,\"168\":0.708,\"169\":0.444,\"170\":0.531,\"171\":0.322,\"172\":0.848,\"173\":0.765,\"174\":0.489,\"175\":0.557,\"176\":0.71,\"177\":0.608,\"178\":0.627,\"179\":0.651,\"180\":0.795,\"181\":0.741,\"182\":0.52,\"183\":0.867,\"184\":0.791,\"185\":0.895,\"186\":0.703,\"187\":0.465,\"188\":0.276,\"189\":0.433,\"190\":0.761,\"191\":0.423,\"192\":0.668,\"193\":0.61,\"194\":0.863,\"195\":0.801,\"196\":0.418,\"197\":0.445,\"198\":0.797},\"energy\":{\"0\":0.545,\"1\":0.557,\"2\":0.666,\"3\":0.722,\"4\":0.824,\"5\":0.476,\"6\":0.444,\"7\":0.949,\"8\":0.215,\"9\":0.806,\"10\":0.756,\"11\":0.737,\"12\":0.848,\"13\":0.859,\"14\":0.743,\"15\":0.945,\"16\":0.416,\"17\":0.758,\"18\":0.48,\"19\":0.914,\"20\":0.35,\"21\":0.895,\"22\":0.464,\"23\":0.56,\"24\":0.661,\"25\":0.34,\"26\":0.647,\"27\":0.648,\"28\":0.557,\"29\":0.732,\"30\":0.79,\"31\":0.745,\"32\":0.656,\"33\":0.668,\"34\":0.692,\"35\":0.595,\"36\":0.615,\"37\":0.756,\"38\":0.22,\"39\":0.758,\"40\":0.743,\"41\":0.338,\"42\":0.685,\"43\":0.834,\"44\":0.67,\"45\":0.588,\"46\":0.648,\"47\":0.741,\"48\":0.583,\"49\":0.567,\"50\":0.873,\"51\":0.765,\"52\":0.637,\"53\":0.742,\"54\":0.89,\"55\":0.776,\"56\":0.649,\"57\":0.774,\"58\":0.524,\"59\":0.655,\"60\":0.617,\"61\":0.802,\"62\":0.699,\"63\":0.661,\"64\":0.887,\"65\":0.744,\"66\":0.653,\"67\":0.878,\"68\":0.878,\"69\":0.86,\"70\":0.824,\"71\":0.869,\"72\":0.835,\"73\":0.285,\"74\":0.632,\"75\":0.344,\"76\":0.495,\"77\":0.825,\"78\":0.956,\"79\":0.682,\"80\":0.922,\"81\":0.756,\"82\":0.789,\"83\":0.891,\"84\":0.867,\"85\":0.909,\"86\":0.849,\"87\":0.944,\"88\":0.942,\"89\":0.873,\"90\":0.708,\"91\":0.686,\"92\":0.856,\"93\":0.889,\"94\":0.882,\"95\":0.344,\"96\":0.825,\"97\":0.677,\"98\":0.938,\"99\":0.705,\"100\":0.825,\"101\":0.822,\"102\":0.616,\"103\":0.933,\"104\":0.726,\"105\":0.63,\"106\":0.816,\"107\":0.794,\"108\":0.862,\"109\":0.568,\"110\":0.827,\"111\":0.383,\"112\":0.629,\"113\":0.876,\"114\":0.567,\"115\":0.839,\"116\":0.841,\"117\":0.905,\"118\":0.676,\"119\":0.646,\"120\":0.865,\"121\":0.535,\"122\":0.432,\"123\":0.756,\"124\":0.802,\"125\":0.772,\"126\":0.628,\"127\":0.64,\"128\":0.894,\"129\":0.662,\"130\":0.872,\"131\":0.912,\"132\":0.818,\"133\":0.912,\"134\":0.965,\"135\":0.685,\"136\":0.977,\"137\":0.946,\"138\":0.87,\"139\":0.502,\"140\":0.992,\"141\":0.0746,\"142\":0.41,\"143\":0.356,\"144\":0.495,\"145\":0.452,\"146\":0.24,\"147\":0.411,\"148\":0.182,\"149\":0.574,\"150\":0.338,\"151\":0.157,\"152\":0.151,\"153\":0.268,\"154\":0.305,\"155\":0.478,\"156\":0.435,\"157\":0.297,\"158\":0.549,\"159\":0.947,\"160\":0.939,\"161\":0.788,\"162\":0.857,\"163\":0.67,\"164\":0.655,\"165\":0.321,\"166\":0.474,\"167\":0.41,\"168\":0.945,\"169\":0.782,\"170\":0.955,\"171\":0.544,\"172\":0.488,\"173\":0.688,\"174\":0.588,\"175\":0.914,\"176\":0.563,\"177\":0.849,\"178\":0.711,\"179\":0.76,\"180\":0.608,\"181\":0.948,\"182\":0.761,\"183\":0.487,\"184\":0.619,\"185\":0.885,\"186\":0.868,\"187\":0.919,\"188\":0.715,\"189\":0.959,\"190\":0.735,\"191\":0.279,\"192\":0.921,\"193\":0.875,\"194\":0.672,\"195\":0.727,\"196\":0.383,\"197\":0.526,\"198\":0.948},\"loudness\":{\"0\":-7.917,\"1\":-5.094,\"2\":-8.17,\"3\":-6.558,\"4\":-2.492,\"5\":-10.228,\"6\":-15.608,\"7\":-2.347,\"8\":-20.598,\"9\":-6.336,\"10\":-7.871,\"11\":-6.17,\"12\":-7.258,\"13\":-5.487,\"14\":-9.446,\"15\":-2.278,\"16\":-14.727,\"17\":-8.308,\"18\":-9.689,\"19\":-7.451,\"20\":-14.142,\"21\":-5.276,\"22\":-9.013,\"23\":-9.667,\"24\":-10.37,\"25\":-20.37,\"26\":-10.832,\"27\":-7.023,\"28\":-7.622,\"29\":-5.643,\"30\":-3.895,\"31\":-7.367,\"32\":-7.298,\"33\":-9.128,\"34\":-5.646,\"35\":-8.106,\"36\":-5.211,\"37\":-10.791,\"38\":-13.843,\"39\":-6.213,\"40\":-13.98,\"41\":-10.054,\"42\":-9.838,\"43\":-7.131,\"44\":-8.81,\"45\":-9.568,\"46\":-8.1,\"47\":-4.245,\"48\":-7.317,\"49\":-6.683,\"50\":-4.741,\"51\":-4.092,\"52\":-4.37,\"53\":-5.581,\"54\":-5.173,\"55\":-6.06,\"56\":-7.508,\"57\":-5.201,\"58\":-5.977,\"59\":-6.851,\"60\":-4.973,\"61\":-7.055,\"62\":-8.042,\"63\":-5.861,\"64\":-4.427,\"65\":-6.922,\"66\":-7.805,\"67\":-6.176,\"68\":-7.352,\"69\":-7.568,\"70\":-9.494,\"71\":-4.528,\"72\":-7.691,\"73\":-8.442,\"74\":-6.235,\"75\":-12.577,\"76\":-12.203,\"77\":-5.325,\"78\":-7.376,\"79\":-11.625,\"80\":-4.087,\"81\":-6.075,\"82\":-6.903,\"83\":-4.764,\"84\":-7.426,\"85\":-4.236,\"86\":-6.501,\"87\":-6.506,\"88\":-5.333,\"89\":-3.902,\"90\":-9.367,\"91\":-10.338,\"92\":-8.52,\"93\":-6.546,\"94\":-5.54,\"95\":-13.057,\"96\":-5.721,\"97\":-10.233,\"98\":-7.332,\"99\":-10.331,\"100\":-8.053,\"101\":-4.662,\"102\":-6.124,\"103\":-4.343,\"104\":-9.255,\"105\":-6.993,\"106\":-9.711,\"107\":-7.208,\"108\":-7.009,\"109\":-9.629,\"110\":-7.372,\"111\":-5.347,\"112\":-10.775,\"113\":-5.783,\"114\":-7.022,\"115\":-3.742,\"116\":-5.992,\"117\":-4.509,\"118\":-3.571,\"119\":-4.674,\"120\":-5.498,\"121\":-16.035,\"122\":-7.844,\"123\":-11.331,\"124\":-6.849,\"125\":-7.907,\"126\":-9.684,\"127\":-11.001,\"128\":-3.826,\"129\":-5.162,\"130\":-5.066,\"131\":-7.733,\"132\":-9.149,\"133\":-3.603,\"134\":-7.984,\"135\":-4.639,\"136\":-5.182,\"137\":-5.824,\"138\":-3.019,\"139\":-7.393,\"140\":-5.332,\"141\":-12.952,\"142\":-8.765,\"143\":-7.608,\"144\":-8.229,\"145\":-6.514,\"146\":-10.474,\"147\":-9.308,\"148\":-18.426,\"149\":-6.115,\"150\":-10.004,\"151\":-12.585,\"152\":-10.838,\"153\":-14.041,\"154\":-8.299,\"155\":-8.436,\"156\":-9.197,\"157\":-12.056,\"158\":-7.843,\"159\":-5.442,\"160\":-2.697,\"161\":-6.612,\"162\":-5.2,\"163\":-4.985,\"164\":-7.333,\"165\":-9.001,\"166\":-5.478,\"167\":-8.293,\"168\":-3.247,\"169\":-7.0,\"170\":-5.027,\"171\":-10.048,\"172\":-6.36,\"173\":-5.566,\"174\":-6.177,\"175\":-6.499,\"176\":-8.004,\"177\":-3.232,\"178\":-6.369,\"179\":-3.377,\"180\":-5.222,\"181\":-4.709,\"182\":-3.093,\"183\":-5.872,\"184\":-5.886,\"185\":-4.182,\"186\":-4.661,\"187\":-4.025,\"188\":-5.356,\"189\":-4.04,\"190\":-5.118,\"191\":-11.796,\"192\":-3.727,\"193\":-5.793,\"194\":-6.311,\"195\":-4.687,\"196\":-11.782,\"197\":-8.649,\"198\":-7.941},\"speechiness\":{\"0\":0.0481,\"1\":0.173,\"2\":0.395,\"3\":0.0344,\"4\":0.0639,\"5\":0.0663,\"6\":0.0491,\"7\":0.274,\"8\":0.0356,\"9\":0.0367,\"10\":0.0391,\"11\":0.0252,\"12\":0.0321,\"13\":0.039,\"14\":0.0532,\"15\":0.0343,\"16\":0.0398,\"17\":0.0399,\"18\":0.18,\"19\":0.221,\"20\":0.0852,\"21\":0.0515,\"22\":0.0335,\"23\":0.0751,\"24\":0.04,\"25\":0.0524,\"26\":0.0952,\"27\":0.0473,\"28\":0.0346,\"29\":0.15,\"30\":0.0599,\"31\":0.0479,\"32\":0.0344,\"33\":0.0357,\"34\":0.0997,\"35\":0.0374,\"36\":0.0671,\"37\":0.0349,\"38\":0.0667,\"39\":0.0463,\"40\":0.0316,\"41\":0.0328,\"42\":0.0656,\"43\":0.0358,\"44\":0.0496,\"45\":0.0253,\"46\":0.0325,\"47\":0.029,\"48\":0.0348,\"49\":0.0913,\"50\":0.119,\"51\":0.0385,\"52\":0.0694,\"53\":0.0284,\"54\":0.0488,\"55\":0.0448,\"56\":0.0316,\"57\":0.0361,\"58\":0.0344,\"59\":0.0438,\"60\":0.0346,\"61\":0.0561,\"62\":0.146,\"63\":0.343,\"64\":0.083,\"65\":0.0476,\"66\":0.0346,\"67\":0.0751,\"68\":0.07,\"69\":0.0447,\"70\":0.0332,\"71\":0.0737,\"72\":0.0344,\"73\":0.0319,\"74\":0.0262,\"75\":0.0293,\"76\":0.041,\"77\":0.0406,\"78\":0.0732,\"79\":0.0366,\"80\":0.0592,\"81\":0.0582,\"82\":0.0676,\"83\":0.057,\"84\":0.0399,\"85\":0.034,\"86\":0.0581,\"87\":0.0761,\"88\":0.132,\"89\":0.0386,\"90\":0.0263,\"91\":0.0279,\"92\":0.0341,\"93\":0.0442,\"94\":0.0369,\"95\":0.035,\"96\":0.0401,\"97\":0.0452,\"98\":0.102,\"99\":0.0553,\"100\":0.0408,\"101\":0.183,\"102\":0.0361,\"103\":0.0504,\"104\":0.0369,\"105\":0.0348,\"106\":0.044,\"107\":0.0249,\"108\":0.0461,\"109\":0.0494,\"110\":0.0714,\"111\":0.0336,\"112\":0.0427,\"113\":0.12,\"114\":0.032,\"115\":0.0504,\"116\":0.0285,\"117\":0.0573,\"118\":0.16,\"119\":0.288,\"120\":0.0283,\"121\":0.058,\"122\":0.0302,\"123\":0.0343,\"124\":0.403,\"125\":0.0311,\"126\":0.0877,\"127\":0.0341,\"128\":0.0495,\"129\":0.0333,\"130\":0.0483,\"131\":0.0513,\"132\":0.0594,\"133\":0.0692,\"134\":0.0465,\"135\":0.0567,\"136\":0.061,\"137\":0.229,\"138\":0.0955,\"139\":0.0321,\"140\":0.0518,\"141\":0.0327,\"142\":0.0233,\"143\":0.027,\"144\":0.0303,\"145\":0.0382,\"146\":0.0817,\"147\":0.0475,\"148\":0.0455,\"149\":0.0263,\"150\":0.0336,\"151\":0.0363,\"152\":0.0318,\"153\":0.0541,\"154\":0.04,\"155\":0.0287,\"156\":0.0647,\"157\":0.0378,\"158\":0.0693,\"159\":0.0945,\"160\":0.0655,\"161\":0.0498,\"162\":0.0582,\"163\":0.0474,\"164\":0.102,\"165\":0.0511,\"166\":0.0321,\"167\":0.074,\"168\":0.234,\"169\":0.029,\"170\":0.0511,\"171\":0.0316,\"172\":0.0382,\"173\":0.0841,\"174\":0.0507,\"175\":0.0403,\"176\":0.0403,\"177\":0.0745,\"178\":0.0349,\"179\":0.054,\"180\":0.0694,\"181\":0.0404,\"182\":0.0853,\"183\":0.0777,\"184\":0.0532,\"185\":0.268,\"186\":0.0291,\"187\":0.0408,\"188\":0.0432,\"189\":0.0431,\"190\":0.194,\"191\":0.0481,\"192\":0.0439,\"193\":0.0616,\"194\":0.0739,\"195\":0.0606,\"196\":0.0257,\"197\":0.0265,\"198\":0.0523},\"acousticness\":{\"0\":0.0216,\"1\":0.272,\"2\":0.127,\"3\":0.329,\"4\":0.0243,\"5\":0.274,\"6\":0.612,\"7\":0.036,\"8\":0.844,\"9\":0.0156,\"10\":0.0853,\"11\":0.008,\"12\":0.0585,\"13\":0.0694,\"14\":0.0731,\"15\":0.0000182,\"16\":0.319,\"17\":0.00104,\"18\":0.0355,\"19\":0.0275,\"20\":0.0803,\"21\":0.0533,\"22\":0.0335,\"23\":0.0667,\"24\":0.967,\"25\":0.917,\"26\":0.0836,\"27\":0.00898,\"28\":0.1,\"29\":0.195,\"30\":0.429,\"31\":0.0041,\"32\":0.096,\"33\":0.382,\"34\":0.00586,\"35\":0.00439,\"36\":0.0786,\"37\":0.0843,\"38\":0.782,\"39\":0.512,\"40\":0.00559,\"41\":0.652,\"42\":0.0424,\"43\":0.0291,\"44\":0.009,\"45\":0.058,\"46\":0.000553,\"47\":0.00648,\"48\":0.002,\"49\":0.0354,\"50\":0.0789,\"51\":0.534,\"52\":0.0302,\"53\":0.0273,\"54\":0.0158,\"55\":0.00081,\"56\":0.131,\"57\":0.00166,\"58\":0.0145,\"59\":0.299,\"60\":0.566,\"61\":0.0435,\"62\":0.0467,\"63\":0.00275,\"64\":0.0144,\"65\":0.384,\"66\":0.273,\"67\":0.526,\"68\":0.0722,\"69\":0.178,\"70\":0.0801,\"71\":0.112,\"72\":0.189,\"73\":0.576,\"74\":0.236,\"75\":0.715,\"76\":0.059,\"77\":0.000203,\"78\":0.017,\"79\":0.0112,\"80\":0.0596,\"81\":0.000174,\"82\":0.00178,\"83\":0.0122,\"84\":0.00000591,\"85\":0.0175,\"86\":0.0377,\"87\":0.00178,\"88\":0.156,\"89\":0.00468,\"90\":0.000813,\"91\":0.0943,\"92\":0.00395,\"93\":0.0415,\"94\":0.0000596,\"95\":0.00563,\"96\":0.000182,\"97\":0.184,\"98\":0.032,\"99\":0.0000501,\"100\":0.00541,\"101\":0.219,\"102\":0.0145,\"103\":0.177,\"104\":0.0239,\"105\":0.117,\"106\":0.00115,\"107\":0.0245,\"108\":0.0557,\"109\":0.186,\"110\":0.0453,\"111\":0.0326,\"112\":0.00426,\"113\":0.000379,\"114\":0.665,\"115\":0.000131,\"116\":0.0767,\"117\":0.0000321,\"118\":0.274,\"119\":0.303,\"120\":0.0204,\"121\":0.027,\"122\":0.183,\"123\":0.251,\"124\":0.107,\"125\":0.0222,\"126\":0.00526,\"127\":0.00198,\"128\":0.0824,\"129\":0.165,\"130\":0.018,\"131\":0.00456,\"132\":0.00437,\"133\":0.0303,\"134\":0.141,\"135\":0.00543,\"136\":0.021,\"137\":0.117,\"138\":0.0275,\"139\":0.119,\"140\":0.00157,\"141\":0.952,\"142\":0.594,\"143\":0.852,\"144\":0.385,\"145\":0.616,\"146\":0.736,\"147\":0.701,\"148\":0.85,\"149\":0.316,\"150\":0.664,\"151\":0.967,\"152\":0.95,\"153\":0.798,\"154\":0.819,\"155\":0.11,\"156\":0.464,\"157\":0.737,\"158\":0.000799,\"159\":0.00389,\"160\":0.00537,\"161\":0.0000895,\"162\":0.0649,\"163\":0.592,\"164\":0.114,\"165\":0.905,\"166\":0.176,\"167\":0.723,\"168\":0.00104,\"169\":0.0431,\"170\":0.000508,\"171\":0.494,\"172\":0.0162,\"173\":0.633,\"174\":0.0285,\"175\":0.00766,\"176\":0.125,\"177\":0.19,\"178\":0.0252,\"179\":0.351,\"180\":0.0767,\"181\":0.0221,\"182\":0.256,\"183\":0.101,\"184\":0.00784,\"185\":0.11,\"186\":0.15,\"187\":0.0000183,\"188\":0.00552,\"189\":0.000917,\"190\":0.0493,\"191\":0.644,\"192\":0.0492,\"193\":0.063,\"194\":0.0446,\"195\":0.0864,\"196\":0.0718,\"197\":0.185,\"198\":0.0052},\"instrumentalness\":{\"0\":0.808,\"1\":0.0,\"2\":0.0737,\"3\":0.859,\"4\":0.0443,\"5\":0.862,\"6\":0.878,\"7\":0.202,\"8\":0.943,\"9\":0.16,\"10\":0.697,\"11\":0.239,\"12\":0.821,\"13\":0.77,\"14\":0.892,\"15\":0.958,\"16\":0.766,\"17\":0.905,\"18\":0.306,\"19\":0.909,\"20\":0.835,\"21\":0.767,\"22\":0.962,\"23\":0.476,\"24\":0.929,\"25\":0.909,\"26\":0.0,\"27\":0.377,\"28\":0.105,\"29\":0.0135,\"30\":0.0,\"31\":0.395,\"32\":0.000879,\"33\":0.863,\"34\":0.000116,\"35\":0.878,\"36\":0.00000298,\"37\":0.00765,\"38\":0.0000119,\"39\":0.00022,\"40\":0.0306,\"41\":0.00000372,\"42\":0.0000374,\"43\":0.00492,\"44\":0.000822,\"45\":0.00000546,\"46\":0.0000688,\"47\":0.00603,\"48\":0.173,\"49\":0.163,\"50\":0.0,\"51\":0.0,\"52\":0.0000337,\"53\":0.00000122,\"54\":0.0000287,\"55\":0.0,\"56\":0.0496,\"57\":0.0000847,\"58\":0.00364,\"59\":0.793,\"60\":0.00000207,\"61\":0.00377,\"62\":0.159,\"63\":0.0832,\"64\":0.0,\"65\":0.0379,\"66\":0.0,\"67\":0.000143,\"68\":0.0623,\"69\":0.0,\"70\":0.0144,\"71\":0.000302,\"72\":0.0255,\"73\":0.0649,\"74\":0.0000265,\"75\":0.00642,\"76\":0.00000125,\"77\":0.0000695,\"78\":0.0000709,\"79\":0.0234,\"80\":0.00000205,\"81\":0.213,\"82\":0.0071,\"83\":0.0,\"84\":0.581,\"85\":0.0,\"86\":0.00592,\"87\":0.00000454,\"88\":0.0,\"89\":0.0,\"90\":0.0197,\"91\":0.00000193,\"92\":0.000061,\"93\":0.0,\"94\":0.00031,\"95\":0.000473,\"96\":0.000948,\"97\":0.0258,\"98\":0.0321,\"99\":0.86,\"100\":0.0000146,\"101\":0.0,\"102\":0.000121,\"103\":0.00129,\"104\":0.0342,\"105\":0.0000291,\"106\":0.00123,\"107\":0.00125,\"108\":0.0000642,\"109\":0.0000118,\"110\":0.619,\"111\":0.000256,\"112\":0.277,\"113\":0.0000401,\"114\":0.000242,\"115\":0.00000939,\"116\":0.0,\"117\":0.00011,\"118\":0.0,\"119\":0.0,\"120\":0.00000124,\"121\":0.00000168,\"122\":0.0,\"123\":0.000611,\"124\":0.0,\"125\":0.0149,\"126\":0.0000821,\"127\":0.106,\"128\":0.0527,\"129\":0.0,\"130\":0.0,\"131\":0.00273,\"132\":0.761,\"133\":0.00000803,\"134\":0.985,\"135\":0.00157,\"136\":0.000516,\"137\":0.0,\"138\":0.0,\"139\":0.0011,\"140\":0.0104,\"141\":0.0,\"142\":0.000346,\"143\":0.0,\"144\":0.0000919,\"145\":0.000772,\"146\":0.0,\"147\":0.0000973,\"148\":0.572,\"149\":0.000316,\"150\":0.000912,\"151\":0.0047,\"152\":0.00106,\"153\":0.0148,\"154\":0.0,\"155\":0.0356,\"156\":0.00000527,\"157\":0.0,\"158\":0.00503,\"159\":0.711,\"160\":0.075,\"161\":0.000417,\"162\":0.0896,\"163\":0.000184,\"164\":0.00016,\"165\":0.0,\"166\":0.0,\"167\":0.0,\"168\":0.0803,\"169\":0.592,\"170\":0.0415,\"171\":0.125,\"172\":0.0000098,\"173\":0.0,\"174\":0.00000211,\"175\":0.5,\"176\":0.0,\"177\":0.227,\"178\":0.0,\"179\":0.0,\"180\":0.00000292,\"181\":0.00481,\"182\":0.00000496,\"183\":0.0,\"184\":0.00423,\"185\":0.0000404,\"186\":0.132,\"187\":0.0000207,\"188\":0.000417,\"189\":0.0,\"190\":0.000022,\"191\":0.012,\"192\":0.00517,\"193\":0.0000534,\"194\":0.0,\"195\":0.00406,\"196\":0.0177,\"197\":0.0,\"198\":0.752},\"liveness\":{\"0\":0.0996,\"1\":0.156,\"2\":0.0644,\"3\":0.118,\"4\":0.0848,\"5\":0.131,\"6\":0.0871,\"7\":0.412,\"8\":0.112,\"9\":0.0732,\"10\":0.13,\"11\":0.416,\"12\":0.126,\"13\":0.13,\"14\":0.152,\"15\":0.299,\"16\":0.102,\"17\":0.0815,\"18\":0.305,\"19\":0.606,\"20\":0.113,\"21\":0.0892,\"22\":0.122,\"23\":0.19,\"24\":0.113,\"25\":0.148,\"26\":0.0791,\"27\":0.393,\"28\":0.218,\"29\":0.246,\"30\":0.123,\"31\":0.0748,\"32\":0.205,\"33\":0.106,\"34\":0.0726,\"35\":0.0855,\"36\":0.0855,\"37\":0.0521,\"38\":0.124,\"39\":0.153,\"40\":0.0707,\"41\":0.248,\"42\":0.151,\"43\":0.147,\"44\":0.0451,\"45\":0.0414,\"46\":0.421,\"47\":0.0707,\"48\":0.115,\"49\":0.0539,\"50\":0.0824,\"51\":0.152,\"52\":0.0876,\"53\":0.206,\"54\":0.0868,\"55\":0.458,\"56\":0.076,\"57\":0.0549,\"58\":0.0954,\"59\":0.0898,\"60\":0.0679,\"61\":0.309,\"62\":0.0688,\"63\":0.19,\"64\":0.369,\"65\":0.0994,\"66\":0.235,\"67\":0.137,\"68\":0.0278,\"69\":0.748,\"70\":0.0236,\"71\":0.0584,\"72\":0.27,\"73\":0.163,\"74\":0.112,\"75\":0.133,\"76\":0.271,\"77\":0.0758,\"78\":0.0893,\"79\":0.0473,\"80\":0.126,\"81\":0.132,\"82\":0.0754,\"83\":0.547,\"84\":0.196,\"85\":0.231,\"86\":0.0545,\"87\":0.298,\"88\":0.367,\"89\":0.165,\"90\":0.0764,\"91\":0.0847,\"92\":0.0421,\"93\":0.463,\"94\":0.0805,\"95\":0.115,\"96\":0.0855,\"97\":0.0926,\"98\":0.0961,\"99\":0.09,\"100\":0.44,\"101\":0.0908,\"102\":0.409,\"103\":0.573,\"104\":0.121,\"105\":0.0861,\"106\":0.0901,\"107\":0.0897,\"108\":0.23,\"109\":0.163,\"110\":0.0833,\"111\":0.341,\"112\":0.122,\"113\":0.134,\"114\":0.07,\"115\":0.231,\"116\":0.135,\"117\":0.102,\"118\":0.134,\"119\":0.284,\"120\":0.17,\"121\":0.104,\"122\":0.161,\"123\":0.122,\"124\":0.305,\"125\":0.203,\"126\":0.104,\"127\":0.146,\"128\":0.089,\"129\":0.248,\"130\":0.622,\"131\":0.0616,\"132\":0.288,\"133\":0.12,\"134\":0.0797,\"135\":0.0537,\"136\":0.0625,\"137\":0.439,\"138\":0.656,\"139\":0.171,\"140\":0.421,\"141\":0.108,\"142\":0.169,\"143\":0.173,\"144\":0.114,\"145\":0.113,\"146\":0.113,\"147\":0.0955,\"148\":0.0828,\"149\":0.428,\"150\":0.108,\"151\":0.161,\"152\":0.676,\"153\":0.0877,\"154\":0.115,\"155\":0.123,\"156\":0.0913,\"157\":0.0962,\"158\":0.22,\"159\":0.0777,\"160\":0.201,\"161\":0.664,\"162\":0.12,\"163\":0.171,\"164\":0.035,\"165\":0.185,\"166\":0.145,\"167\":0.106,\"168\":0.227,\"169\":0.0748,\"170\":0.0994,\"171\":0.0742,\"172\":0.251,\"173\":0.0734,\"174\":0.0906,\"175\":0.311,\"176\":0.196,\"177\":0.0569,\"178\":0.162,\"179\":0.151,\"180\":0.0853,\"181\":0.123,\"182\":0.17,\"183\":0.148,\"184\":0.351,\"185\":0.106,\"186\":0.104,\"187\":0.262,\"188\":0.201,\"189\":0.028,\"190\":0.54,\"191\":0.288,\"192\":0.0877,\"193\":0.294,\"194\":0.166,\"195\":0.112,\"196\":0.0896,\"197\":0.14,\"198\":0.0695},\"valence\":{\"0\":0.0383,\"1\":0.173,\"2\":0.136,\"3\":0.436,\"4\":0.0397,\"5\":0.0523,\"6\":0.0776,\"7\":0.502,\"8\":0.0353,\"9\":0.0717,\"10\":0.489,\"11\":0.0883,\"12\":0.175,\"13\":0.21,\"14\":0.282,\"15\":0.117,\"16\":0.176,\"17\":0.43,\"18\":0.12,\"19\":0.0687,\"20\":0.293,\"21\":0.571,\"22\":0.0414,\"23\":0.0727,\"24\":0.355,\"25\":0.0619,\"26\":0.888,\"27\":0.095,\"28\":0.0498,\"29\":0.134,\"30\":0.417,\"31\":0.347,\"32\":0.286,\"33\":0.448,\"34\":0.0839,\"35\":0.56,\"36\":0.393,\"37\":0.963,\"38\":0.423,\"39\":0.695,\"40\":0.966,\"41\":0.477,\"42\":0.579,\"43\":0.923,\"44\":0.481,\"45\":0.964,\"46\":0.904,\"47\":0.399,\"48\":0.235,\"49\":0.19,\"50\":0.552,\"51\":0.564,\"52\":0.281,\"53\":0.754,\"54\":0.576,\"55\":0.407,\"56\":0.177,\"57\":0.119,\"58\":0.109,\"59\":0.86,\"60\":0.196,\"61\":0.343,\"62\":0.388,\"63\":0.0508,\"64\":0.806,\"65\":0.865,\"66\":0.766,\"67\":0.693,\"68\":0.929,\"69\":0.814,\"70\":0.966,\"71\":0.868,\"72\":0.678,\"73\":0.0653,\"74\":0.878,\"75\":0.232,\"76\":0.532,\"77\":0.16,\"78\":0.561,\"79\":0.714,\"80\":0.335,\"81\":0.272,\"82\":0.918,\"83\":0.695,\"84\":0.453,\"85\":0.814,\"86\":0.194,\"87\":0.265,\"88\":0.387,\"89\":0.864,\"90\":0.891,\"91\":0.815,\"92\":0.515,\"93\":0.524,\"94\":0.356,\"95\":0.126,\"96\":0.541,\"97\":0.316,\"98\":0.543,\"99\":0.555,\"100\":0.54,\"101\":0.962,\"102\":0.622,\"103\":0.71,\"104\":0.936,\"105\":0.42,\"106\":0.838,\"107\":0.896,\"108\":0.928,\"109\":0.687,\"110\":0.311,\"111\":0.327,\"112\":0.173,\"113\":0.327,\"114\":0.46,\"115\":0.794,\"116\":0.82,\"117\":0.692,\"118\":0.746,\"119\":0.67,\"120\":0.241,\"121\":0.675,\"122\":0.648,\"123\":0.759,\"124\":0.901,\"125\":0.737,\"126\":0.87,\"127\":0.435,\"128\":0.96,\"129\":0.138,\"130\":0.729,\"131\":0.642,\"132\":0.761,\"133\":0.224,\"134\":0.587,\"135\":0.683,\"136\":0.695,\"137\":0.488,\"138\":0.791,\"139\":0.836,\"140\":0.78,\"141\":0.123,\"142\":0.313,\"143\":0.196,\"144\":0.296,\"145\":0.284,\"146\":0.484,\"147\":0.528,\"148\":0.432,\"149\":0.681,\"150\":0.486,\"151\":0.0698,\"152\":0.253,\"153\":0.359,\"154\":0.586,\"155\":0.0793,\"156\":0.865,\"157\":0.205,\"158\":0.533,\"159\":0.382,\"160\":0.648,\"161\":0.515,\"162\":0.77,\"163\":0.438,\"164\":0.346,\"165\":0.348,\"166\":0.351,\"167\":0.0736,\"168\":0.545,\"169\":0.626,\"170\":0.635,\"171\":0.275,\"172\":0.593,\"173\":0.434,\"174\":0.187,\"175\":0.489,\"176\":0.427,\"177\":0.818,\"178\":0.561,\"179\":0.673,\"180\":0.386,\"181\":0.873,\"182\":0.286,\"183\":0.789,\"184\":0.371,\"185\":0.633,\"186\":0.733,\"187\":0.537,\"188\":0.173,\"189\":0.365,\"190\":0.579,\"191\":0.205,\"192\":0.782,\"193\":0.742,\"194\":0.338,\"195\":0.218,\"196\":0.352,\"197\":0.174,\"198\":0.0451},\"tempo\":{\"0\":177.984,\"1\":106.122,\"2\":160.17,\"3\":120.987,\"4\":169.817,\"5\":186.024,\"6\":104.999,\"7\":79.99,\"8\":85.052,\"9\":176.003,\"10\":129.999,\"11\":103.999,\"12\":100.032,\"13\":157.98,\"14\":119.987,\"15\":128.003,\"16\":139.994,\"17\":127.009,\"18\":130.865,\"19\":211.893,\"20\":180.095,\"21\":155.027,\"22\":139.32,\"23\":125.065,\"24\":127.005,\"25\":124.93,\"26\":113.297,\"27\":99.996,\"28\":110.028,\"29\":195.978,\"30\":206.033,\"31\":115.048,\"32\":150.071,\"33\":99.981,\"34\":140.029,\"35\":170.05,\"36\":110.009,\"37\":131.715,\"38\":75.16,\"39\":119.719,\"40\":120.471,\"41\":177.784,\"42\":102.253,\"43\":103.555,\"44\":151.553,\"45\":104.413,\"46\":126.682,\"47\":79.984,\"48\":128.017,\"49\":113.986,\"50\":79.943,\"51\":104.987,\"52\":186.1,\"53\":119.966,\"54\":133.055,\"55\":130.04,\"56\":119.236,\"57\":157.787,\"58\":112.325,\"59\":91.992,\"60\":114.887,\"61\":100.001,\"62\":79.981,\"63\":90.012,\"64\":167.897,\"65\":109.938,\"66\":175.079,\"67\":116.053,\"68\":108.217,\"69\":117.283,\"70\":131.807,\"71\":125.66,\"72\":144.092,\"73\":112.025,\"74\":138.951,\"75\":171.143,\"76\":118.505,\"77\":105.495,\"78\":157.706,\"79\":129.983,\"80\":162.978,\"81\":133.287,\"82\":129.804,\"83\":148.599,\"84\":87.309,\"85\":97.546,\"86\":163.704,\"87\":105.338,\"88\":100.446,\"89\":142.726,\"90\":100.698,\"91\":125.412,\"92\":143.42,\"93\":171.121,\"94\":158.066,\"95\":91.834,\"96\":119.987,\"97\":101.539,\"98\":168.131,\"99\":122.154,\"100\":75.592,\"101\":160.019,\"102\":130.464,\"103\":100.543,\"104\":113.121,\"105\":118.165,\"106\":113.244,\"107\":109.123,\"108\":127.602,\"109\":122.657,\"110\":144.992,\"111\":160.007,\"112\":109.013,\"113\":123.974,\"114\":117.957,\"115\":160.073,\"116\":125.437,\"117\":116.746,\"118\":67.427,\"119\":88.641,\"120\":92.086,\"121\":115.744,\"122\":94.605,\"123\":124.25,\"124\":174.201,\"125\":123.871,\"126\":187.548,\"127\":127.884,\"128\":114.869,\"129\":121.154,\"130\":159.925,\"131\":104.862,\"132\":136.957,\"133\":164.001,\"134\":136.065,\"135\":88.997,\"136\":132.007,\"137\":102.145,\"138\":91.647,\"139\":144.204,\"140\":169.984,\"141\":106.328,\"142\":95.923,\"143\":109.763,\"144\":165.097,\"145\":54.539,\"146\":203.302,\"147\":79.785,\"148\":78.386,\"149\":110.256,\"150\":70.267,\"151\":119.135,\"152\":116.76,\"153\":152.158,\"154\":125.015,\"155\":79.013,\"156\":90.033,\"157\":129.592,\"158\":130.733,\"159\":147.97,\"160\":110.01,\"161\":126.216,\"162\":138.004,\"163\":78.957,\"164\":114.503,\"165\":137.841,\"166\":124.972,\"167\":103.666,\"168\":127.96,\"169\":105.99,\"170\":119.868,\"171\":170.005,\"172\":109.964,\"173\":90.013,\"174\":113.617,\"175\":140.003,\"176\":101.931,\"177\":94.983,\"178\":91.989,\"179\":96.204,\"180\":110.001,\"181\":108.992,\"182\":141.971,\"183\":101.959,\"184\":103.989,\"185\":134.973,\"186\":121.03,\"187\":135.997,\"188\":137.028,\"189\":172.984,\"190\":160.046,\"191\":90.039,\"192\":120.0,\"193\":126.977,\"194\":111.11,\"195\":107.371,\"196\":87.773,\"197\":77.42,\"198\":125.934},\"duration_ms\":{\"0\":248785.0,\"1\":214255.0,\"2\":168000.0,\"3\":317355.0,\"4\":248471.0,\"5\":143256.0,\"6\":165653.0,\"7\":216000.0,\"8\":217412.0,\"9\":273409.0,\"10\":198565.0,\"11\":197749.0,\"12\":256812.0,\"13\":264734.0,\"14\":345387.0,\"15\":240406.0,\"16\":150959.0,\"17\":427987.0,\"18\":124604.0,\"19\":366792.0,\"20\":149422.0,\"21\":313521.0,\"22\":178308.0,\"23\":204263.0,\"24\":294692.0,\"25\":72120.0,\"26\":214200.0,\"27\":194400.0,\"28\":349091.0,\"29\":209573.0,\"30\":286082.0,\"31\":262957.0,\"32\":227080.0,\"33\":226960.0,\"34\":236931.0,\"35\":171500.0,\"36\":199849.0,\"37\":288293.0,\"38\":258835.0,\"39\":251253.0,\"40\":314760.0,\"41\":303373.0,\"42\":196350.0,\"43\":285373.0,\"44\":270213.0,\"45\":201093.0,\"46\":205027.0,\"47\":211720.0,\"48\":246787.0,\"49\":214217.0,\"50\":172687.0,\"51\":198286.0,\"52\":184556.0,\"53\":180251.0,\"54\":212760.0,\"55\":186320.0,\"56\":258907.0,\"57\":221226.0,\"58\":227627.0,\"59\":237947.0,\"60\":181856.0,\"61\":226739.0,\"62\":307566.0,\"63\":278333.0,\"64\":217467.0,\"65\":223160.0,\"66\":196787.0,\"67\":218067.0,\"68\":244573.0,\"69\":170880.0,\"70\":287867.0,\"71\":242853.0,\"72\":264840.0,\"73\":191493.0,\"74\":169000.0,\"75\":277160.0,\"76\":265933.0,\"77\":318587.0,\"78\":148573.0,\"79\":224907.0,\"80\":289559.0,\"81\":320107.0,\"82\":121160.0,\"83\":168000.0,\"84\":298253.0,\"85\":178000.0,\"86\":387213.0,\"87\":292581.0,\"88\":191507.0,\"89\":134200.0,\"90\":309573.0,\"91\":268933.0,\"92\":283155.0,\"93\":358427.0,\"94\":250547.0,\"95\":235667.0,\"96\":218920.0,\"97\":281160.0,\"98\":178440.0,\"99\":257707.0,\"100\":341160.0,\"101\":232720.0,\"102\":263093.0,\"103\":231093.0,\"104\":416067.0,\"105\":286667.0,\"106\":375400.0,\"107\":213400.0,\"108\":409933.0,\"109\":178400.0,\"110\":268303.0,\"111\":277693.0,\"112\":283067.0,\"113\":389740.0,\"114\":186147.0,\"115\":206160.0,\"116\":267733.0,\"117\":301920.0,\"118\":271333.0,\"119\":304600.0,\"120\":273160.0,\"121\":271467.0,\"122\":153467.0,\"123\":225867.0,\"124\":219600.0,\"125\":270373.0,\"126\":211213.0,\"127\":265108.0,\"128\":202853.0,\"129\":298760.0,\"130\":221373.0,\"131\":238533.0,\"132\":217573.0,\"133\":287827.0,\"134\":225493.0,\"135\":230200.0,\"136\":190973.0,\"137\":266227.0,\"138\":348000.0,\"139\":289440.0,\"140\":197084.0,\"141\":292187.0,\"142\":280653.0,\"143\":232164.0,\"144\":227067.0,\"145\":209630.0,\"146\":216259.0,\"147\":218502.0,\"148\":240939.0,\"149\":210300.0,\"150\":236867.0,\"151\":301333.0,\"152\":260928.0,\"153\":228527.0,\"154\":210107.0,\"155\":326920.0,\"156\":195356.0,\"157\":217280.0,\"158\":244573.0,\"159\":271533.0,\"160\":190448.0,\"161\":207757.0,\"162\":204262.0,\"163\":221895.0,\"164\":323253.0,\"165\":203263.0,\"166\":187574.0,\"167\":210422.0,\"168\":203133.0,\"169\":220960.0,\"170\":312907.0,\"171\":380213.0,\"172\":201768.0,\"173\":229573.0,\"174\":269600.0,\"175\":221862.0,\"176\":173925.0,\"177\":183845.0,\"178\":202140.0,\"179\":141875.0,\"180\":199849.0,\"181\":275780.0,\"182\":180823.0,\"183\":191240.0,\"184\":173987.0,\"185\":186027.0,\"186\":193613.0,\"187\":235293.0,\"188\":230760.0,\"189\":269373.0,\"190\":207502.0,\"191\":435692.0,\"192\":212440.0,\"193\":206133.0,\"194\":268827.0,\"195\":234373.0,\"196\":257480.0,\"197\":304880.0,\"198\":289524.0},\"num_played\":{\"0\":2,\"1\":1,\"2\":3,\"3\":4,\"4\":2,\"5\":3,\"6\":8,\"7\":3,\"8\":3,\"9\":2,\"10\":3,\"11\":3,\"12\":3,\"13\":2,\"14\":2,\"15\":4,\"16\":3,\"17\":3,\"18\":2,\"19\":3,\"20\":4,\"21\":2,\"22\":1,\"23\":2,\"24\":4,\"25\":2,\"26\":5,\"27\":3,\"28\":1,\"29\":4,\"30\":1,\"31\":3,\"32\":1,\"33\":1,\"34\":1,\"35\":4,\"36\":2,\"37\":2,\"38\":1,\"39\":1,\"40\":2,\"41\":1,\"42\":2,\"43\":2,\"44\":1,\"45\":1,\"46\":1,\"47\":1,\"48\":3,\"49\":2,\"50\":1,\"51\":1,\"52\":1,\"53\":1,\"54\":1,\"55\":1,\"56\":2,\"57\":2,\"58\":2,\"59\":2,\"60\":1,\"61\":2,\"62\":2,\"63\":3,\"64\":2,\"65\":2,\"66\":3,\"67\":1,\"68\":2,\"69\":3,\"70\":3,\"71\":2,\"72\":1,\"73\":1,\"74\":1,\"75\":1,\"76\":1,\"77\":2,\"78\":2,\"79\":1,\"80\":1,\"81\":1,\"82\":3,\"83\":1,\"84\":2,\"85\":1,\"86\":1,\"87\":2,\"88\":1,\"89\":1,\"90\":4,\"91\":1,\"92\":1,\"93\":3,\"94\":1,\"95\":1,\"96\":1,\"97\":1,\"98\":1,\"99\":1,\"100\":1,\"101\":1,\"102\":1,\"103\":3,\"104\":2,\"105\":1,\"106\":2,\"107\":1,\"108\":7,\"109\":1,\"110\":1,\"111\":1,\"112\":1,\"113\":1,\"114\":1,\"115\":2,\"116\":1,\"117\":2,\"118\":1,\"119\":1,\"120\":2,\"121\":2,\"122\":1,\"123\":1,\"124\":1,\"125\":1,\"126\":2,\"127\":1,\"128\":1,\"129\":2,\"130\":2,\"131\":1,\"132\":2,\"133\":1,\"134\":2,\"135\":1,\"136\":1,\"137\":1,\"138\":2,\"139\":5,\"140\":1,\"141\":1,\"142\":2,\"143\":2,\"144\":1,\"145\":2,\"146\":2,\"147\":2,\"148\":2,\"149\":2,\"150\":2,\"151\":2,\"152\":3,\"153\":1,\"154\":1,\"155\":2,\"156\":2,\"157\":1,\"158\":1,\"159\":6,\"160\":2,\"161\":2,\"162\":6,\"163\":1,\"164\":1,\"165\":1,\"166\":1,\"167\":1,\"168\":1,\"169\":1,\"170\":1,\"171\":2,\"172\":1,\"173\":1,\"174\":1,\"175\":1,\"176\":2,\"177\":1,\"178\":3,\"179\":1,\"180\":2,\"181\":2,\"182\":2,\"183\":2,\"184\":3,\"185\":2,\"186\":2,\"187\":2,\"188\":2,\"189\":2,\"190\":3,\"191\":1,\"192\":1,\"193\":1,\"194\":1,\"195\":1,\"196\":1,\"197\":1,\"198\":1},\"rate\":{\"0\":1.0,\"1\":6.3333,\"2\":3.0,\"3\":8.0,\"4\":5.5714,\"5\":7.0,\"6\":5.0,\"7\":7.0,\"8\":6.5,\"9\":7.0,\"10\":5.0,\"11\":7.0,\"12\":3.0,\"13\":7.0,\"14\":7.0,\"15\":6.0,\"16\":5.0,\"17\":7.0,\"18\":7.0,\"19\":6.1429,\"20\":5.4,\"21\":7.0,\"22\":6.1579,\"23\":5.0,\"24\":5.2222,\"25\":7.0,\"26\":5.6667,\"27\":6.6,\"28\":7.0,\"29\":7.0,\"30\":3.0,\"31\":7.0,\"32\":9.0,\"33\":3.0,\"34\":9.0,\"35\":7.0,\"36\":1.0,\"37\":7.0,\"38\":5.0,\"39\":5.0,\"40\":7.0,\"41\":9.0,\"42\":7.5,\"43\":4.5,\"44\":7.0,\"45\":5.0,\"46\":9.0,\"47\":7.0,\"48\":6.4737,\"49\":9.0,\"50\":7.0,\"51\":5.0,\"52\":8.0,\"53\":6.5,\"54\":7.0,\"55\":9.0,\"56\":9.0,\"57\":3.0,\"58\":3.2857,\"59\":3.0,\"60\":7.0,\"61\":9.0,\"62\":5.0,\"63\":5.9412,\"64\":3.0,\"65\":3.0,\"66\":6.7143,\"67\":1.0,\"68\":9.0,\"69\":7.0,\"70\":7.0,\"71\":3.0,\"72\":7.0,\"73\":5.0,\"74\":5.0,\"75\":8.0,\"76\":4.7647,\"77\":9.0,\"78\":5.0,\"79\":7.6667,\"80\":6.3333,\"81\":7.0,\"82\":9.0,\"83\":8.0,\"84\":9.0,\"85\":5.5,\"86\":8.0,\"87\":5.0,\"88\":1.0,\"89\":7.0,\"90\":4.7143,\"91\":5.8,\"92\":7.0,\"93\":8.3333,\"94\":9.0,\"95\":9.0,\"96\":9.0,\"97\":9.0,\"98\":3.0,\"99\":9.0,\"100\":6.8571,\"101\":7.6667,\"102\":5.0,\"103\":4.6,\"104\":1.0,\"105\":1.0,\"106\":1.0,\"107\":4.4118,\"108\":6.5,\"109\":7.0,\"110\":7.0,\"111\":9.0,\"112\":9.0,\"113\":8.0,\"114\":7.0,\"115\":2.0,\"116\":7.0,\"117\":7.6667,\"118\":3.0,\"119\":6.6,\"120\":7.0,\"121\":7.0,\"122\":9.0,\"123\":9.0,\"124\":7.0,\"125\":5.0,\"126\":3.0,\"127\":2.3333,\"128\":9.0,\"129\":9.0,\"130\":9.0,\"131\":1.0,\"132\":7.0,\"133\":9.0,\"134\":8.3333,\"135\":3.0,\"136\":3.0,\"137\":5.0,\"138\":7.0,\"139\":5.0,\"140\":1.0,\"141\":3.0,\"142\":7.0,\"143\":9.0,\"144\":7.0,\"145\":5.0,\"146\":3.0,\"147\":7.0,\"148\":5.5,\"149\":4.3333,\"150\":6.0,\"151\":3.0,\"152\":5.0,\"153\":7.0,\"154\":9.0,\"155\":6.0,\"156\":5.4444,\"157\":4.0,\"158\":5.6667,\"159\":4.6667,\"160\":5.0,\"161\":3.0,\"162\":9.0,\"163\":9.0,\"164\":1.0,\"165\":5.0,\"166\":1.0,\"167\":9.0,\"168\":7.0,\"169\":5.2222,\"170\":3.0,\"171\":7.0,\"172\":1.0,\"173\":1.0,\"174\":1.0,\"175\":5.1429,\"176\":3.0,\"177\":7.0,\"178\":5.6667,\"179\":3.0,\"180\":9.0,\"181\":5.0,\"182\":5.0,\"183\":5.4,\"184\":6.4545,\"185\":5.5,\"186\":5.6667,\"187\":8.3333,\"188\":7.25,\"189\":9.0,\"190\":4.6,\"191\":9.0,\"192\":9.0,\"193\":5.0,\"194\":7.0,\"195\":9.0,\"196\":7.0,\"197\":3.0,\"198\":9.0}}'"
      ]
     },
     "execution_count": 21,
     "metadata": {},
     "output_type": "execute_result"
    }
   ],
   "source": [
    "data.to_json()"
   ]
  },
  {
   "cell_type": "code",
   "execution_count": 22,
   "metadata": {
    "collapsed": true
   },
   "outputs": [],
   "source": [
    "from sklearn import preprocessing"
   ]
  },
  {
   "cell_type": "code",
   "execution_count": 23,
   "metadata": {},
   "outputs": [
    {
     "ename": "ValueError",
     "evalue": "could not convert string to float: 'Hydrogen'",
     "output_type": "error",
     "traceback": [
      "\u001b[0;31m---------------------------------------------------------------------------\u001b[0m",
      "\u001b[0;31mValueError\u001b[0m                                Traceback (most recent call last)",
      "\u001b[0;32m<ipython-input-23-6df5deded600>\u001b[0m in \u001b[0;36m<module>\u001b[0;34m()\u001b[0m\n\u001b[0;32m----> 1\u001b[0;31m \u001b[0mscaled\u001b[0m \u001b[0;34m=\u001b[0m \u001b[0mpreprocessing\u001b[0m\u001b[0;34m.\u001b[0m\u001b[0mscale\u001b[0m\u001b[0;34m(\u001b[0m\u001b[0mdata\u001b[0m\u001b[0;34m)\u001b[0m\u001b[0;34m\u001b[0m\u001b[0m\n\u001b[0m",
      "\u001b[0;32m/Users/titocosta/.pyenv/versions/3.6.0/lib/python3.6/site-packages/sklearn/preprocessing/data.py\u001b[0m in \u001b[0;36mscale\u001b[0;34m(X, axis, with_mean, with_std, copy)\u001b[0m\n\u001b[1;32m    127\u001b[0m     X = check_array(X, accept_sparse='csc', copy=copy, ensure_2d=False,\n\u001b[1;32m    128\u001b[0m                     \u001b[0mwarn_on_dtype\u001b[0m\u001b[0;34m=\u001b[0m\u001b[0;32mTrue\u001b[0m\u001b[0;34m,\u001b[0m \u001b[0mestimator\u001b[0m\u001b[0;34m=\u001b[0m\u001b[0;34m'the scale function'\u001b[0m\u001b[0;34m,\u001b[0m\u001b[0;34m\u001b[0m\u001b[0m\n\u001b[0;32m--> 129\u001b[0;31m                     dtype=FLOAT_DTYPES)\n\u001b[0m\u001b[1;32m    130\u001b[0m     \u001b[0;32mif\u001b[0m \u001b[0msparse\u001b[0m\u001b[0;34m.\u001b[0m\u001b[0missparse\u001b[0m\u001b[0;34m(\u001b[0m\u001b[0mX\u001b[0m\u001b[0;34m)\u001b[0m\u001b[0;34m:\u001b[0m\u001b[0;34m\u001b[0m\u001b[0m\n\u001b[1;32m    131\u001b[0m         \u001b[0;32mif\u001b[0m \u001b[0mwith_mean\u001b[0m\u001b[0;34m:\u001b[0m\u001b[0;34m\u001b[0m\u001b[0m\n",
      "\u001b[0;32m/Users/titocosta/.pyenv/versions/3.6.0/lib/python3.6/site-packages/sklearn/utils/validation.py\u001b[0m in \u001b[0;36mcheck_array\u001b[0;34m(array, accept_sparse, dtype, order, copy, force_all_finite, ensure_2d, allow_nd, ensure_min_samples, ensure_min_features, warn_on_dtype, estimator)\u001b[0m\n\u001b[1;32m    380\u001b[0m                                       force_all_finite)\n\u001b[1;32m    381\u001b[0m     \u001b[0;32melse\u001b[0m\u001b[0;34m:\u001b[0m\u001b[0;34m\u001b[0m\u001b[0m\n\u001b[0;32m--> 382\u001b[0;31m         \u001b[0marray\u001b[0m \u001b[0;34m=\u001b[0m \u001b[0mnp\u001b[0m\u001b[0;34m.\u001b[0m\u001b[0marray\u001b[0m\u001b[0;34m(\u001b[0m\u001b[0marray\u001b[0m\u001b[0;34m,\u001b[0m \u001b[0mdtype\u001b[0m\u001b[0;34m=\u001b[0m\u001b[0mdtype\u001b[0m\u001b[0;34m,\u001b[0m \u001b[0morder\u001b[0m\u001b[0;34m=\u001b[0m\u001b[0morder\u001b[0m\u001b[0;34m,\u001b[0m \u001b[0mcopy\u001b[0m\u001b[0;34m=\u001b[0m\u001b[0mcopy\u001b[0m\u001b[0;34m)\u001b[0m\u001b[0;34m\u001b[0m\u001b[0m\n\u001b[0m\u001b[1;32m    383\u001b[0m \u001b[0;34m\u001b[0m\u001b[0m\n\u001b[1;32m    384\u001b[0m         \u001b[0;32mif\u001b[0m \u001b[0mensure_2d\u001b[0m\u001b[0;34m:\u001b[0m\u001b[0;34m\u001b[0m\u001b[0m\n",
      "\u001b[0;31mValueError\u001b[0m: could not convert string to float: 'Hydrogen'"
     ]
    }
   ],
   "source": [
    "scaled = preprocessing.scale(data)"
   ]
  },
  {
   "cell_type": "code",
   "execution_count": 24,
   "metadata": {
    "collapsed": true
   },
   "outputs": [],
   "source": [
    "data = data.iloc[:, [4, 5]]"
   ]
  },
  {
   "cell_type": "code",
   "execution_count": 26,
   "metadata": {},
   "outputs": [],
   "source": [
    "scaled = preprocessing.scale(data)"
   ]
  },
  {
   "cell_type": "code",
   "execution_count": null,
   "metadata": {
    "collapsed": true
   },
   "outputs": [],
   "source": []
  }
 ],
 "metadata": {
  "kernelspec": {
   "display_name": "Python 3",
   "language": "python",
   "name": "python3"
  },
  "language_info": {
   "codemirror_mode": {
    "name": "ipython",
    "version": 3
   },
   "file_extension": ".py",
   "mimetype": "text/x-python",
   "name": "python",
   "nbconvert_exporter": "python",
   "pygments_lexer": "ipython3",
   "version": "3.6.0"
  }
 },
 "nbformat": 4,
 "nbformat_minor": 1
}
