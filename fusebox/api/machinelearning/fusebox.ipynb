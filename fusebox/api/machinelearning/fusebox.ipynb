{
 "cells": [
  {
   "cell_type": "code",
   "execution_count": 2,
   "metadata": {
    "collapsed": true
   },
   "outputs": [],
   "source": [
    "import numpy as np"
   ]
  },
  {
   "cell_type": "code",
   "execution_count": 3,
   "metadata": {
    "collapsed": true
   },
   "outputs": [],
   "source": [
    "import pandas as pd"
   ]
  },
  {
   "cell_type": "code",
   "execution_count": 4,
   "metadata": {
    "collapsed": true
   },
   "outputs": [],
   "source": [
    "data = pd.read_csv(\"fusebox.csv\")"
   ]
  },
  {
   "cell_type": "code",
   "execution_count": 5,
   "metadata": {
    "collapsed": false
   },
   "outputs": [
    {
     "data": {
      "text/html": [
       "<div>\n",
       "<table border=\"1\" class=\"dataframe\">\n",
       "  <thead>\n",
       "    <tr style=\"text-align: right;\">\n",
       "      <th></th>\n",
       "      <th>id</th>\n",
       "      <th>artist</th>\n",
       "      <th>album</th>\n",
       "      <th>title</th>\n",
       "      <th>danceability</th>\n",
       "      <th>energy</th>\n",
       "      <th>loudness</th>\n",
       "      <th>speechiness</th>\n",
       "      <th>acousticness</th>\n",
       "      <th>instrumentalness</th>\n",
       "      <th>liveness</th>\n",
       "      <th>valence</th>\n",
       "      <th>tempo</th>\n",
       "      <th>duration_ms</th>\n",
       "      <th>num_played</th>\n",
       "      <th>num_rates</th>\n",
       "      <th>rate</th>\n",
       "    </tr>\n",
       "  </thead>\n",
       "  <tbody>\n",
       "    <tr>\n",
       "      <th>240</th>\n",
       "      <td>spotify:track:7oAraczbemGSNWqnbkU87R</td>\n",
       "      <td>Sam Smith</td>\n",
       "      <td>Too Good At Goodbyes</td>\n",
       "      <td>Too Good At Goodbyes</td>\n",
       "      <td>0.515</td>\n",
       "      <td>0.378</td>\n",
       "      <td>-8.264</td>\n",
       "      <td>0.0650</td>\n",
       "      <td>0.618</td>\n",
       "      <td>0.000000</td>\n",
       "      <td>0.1720</td>\n",
       "      <td>0.5360</td>\n",
       "      <td>91.883</td>\n",
       "      <td>201000.0</td>\n",
       "      <td>1</td>\n",
       "      <td>1</td>\n",
       "      <td>1.0</td>\n",
       "    </tr>\n",
       "    <tr>\n",
       "      <th>241</th>\n",
       "      <td>spotify:track:0Cpth4o3AM7KtMh3SoCMaG</td>\n",
       "      <td>Royal Wood</td>\n",
       "      <td>A Good Enough Day</td>\n",
       "      <td>A Mirror Without</td>\n",
       "      <td>0.609</td>\n",
       "      <td>0.781</td>\n",
       "      <td>-7.711</td>\n",
       "      <td>0.0262</td>\n",
       "      <td>0.362</td>\n",
       "      <td>0.002180</td>\n",
       "      <td>0.0923</td>\n",
       "      <td>0.7460</td>\n",
       "      <td>104.124</td>\n",
       "      <td>278840.0</td>\n",
       "      <td>1</td>\n",
       "      <td>9</td>\n",
       "      <td>5.0</td>\n",
       "    </tr>\n",
       "    <tr>\n",
       "      <th>242</th>\n",
       "      <td>spotify:track:7rPLZ8Krm6CZIbraFUlnWZ</td>\n",
       "      <td>Adele</td>\n",
       "      <td>19</td>\n",
       "      <td>Make You Feel My Love</td>\n",
       "      <td>0.325</td>\n",
       "      <td>0.180</td>\n",
       "      <td>-10.647</td>\n",
       "      <td>0.0311</td>\n",
       "      <td>0.910</td>\n",
       "      <td>0.000633</td>\n",
       "      <td>0.1130</td>\n",
       "      <td>0.0997</td>\n",
       "      <td>72.416</td>\n",
       "      <td>212040.0</td>\n",
       "      <td>1</td>\n",
       "      <td>1</td>\n",
       "      <td>9.0</td>\n",
       "    </tr>\n",
       "    <tr>\n",
       "      <th>243</th>\n",
       "      <td>spotify:track:4KWe6WJNej8YkOXoWh9fD3</td>\n",
       "      <td>Ali Barter</td>\n",
       "      <td>A Suitable Girl</td>\n",
       "      <td>Live With You</td>\n",
       "      <td>0.403</td>\n",
       "      <td>0.793</td>\n",
       "      <td>-6.144</td>\n",
       "      <td>0.0478</td>\n",
       "      <td>0.099</td>\n",
       "      <td>0.028700</td>\n",
       "      <td>0.1280</td>\n",
       "      <td>0.0967</td>\n",
       "      <td>147.827</td>\n",
       "      <td>207889.0</td>\n",
       "      <td>2</td>\n",
       "      <td>1</td>\n",
       "      <td>7.0</td>\n",
       "    </tr>\n",
       "    <tr>\n",
       "      <th>244</th>\n",
       "      <td>spotify:track:4T9BHDo9Bgv0xJaZsY4yNe</td>\n",
       "      <td>Nahko</td>\n",
       "      <td>Dragonfly</td>\n",
       "      <td>Dragonfly</td>\n",
       "      <td>0.367</td>\n",
       "      <td>0.479</td>\n",
       "      <td>-12.159</td>\n",
       "      <td>0.0568</td>\n",
       "      <td>0.507</td>\n",
       "      <td>0.000184</td>\n",
       "      <td>0.3450</td>\n",
       "      <td>0.3280</td>\n",
       "      <td>177.323</td>\n",
       "      <td>285480.0</td>\n",
       "      <td>2</td>\n",
       "      <td>5</td>\n",
       "      <td>4.6</td>\n",
       "    </tr>\n",
       "  </tbody>\n",
       "</table>\n",
       "</div>"
      ],
      "text/plain": [
       "                                       id      artist                 album  \\\n",
       "240  spotify:track:7oAraczbemGSNWqnbkU87R   Sam Smith  Too Good At Goodbyes   \n",
       "241  spotify:track:0Cpth4o3AM7KtMh3SoCMaG  Royal Wood     A Good Enough Day   \n",
       "242  spotify:track:7rPLZ8Krm6CZIbraFUlnWZ       Adele                    19   \n",
       "243  spotify:track:4KWe6WJNej8YkOXoWh9fD3  Ali Barter       A Suitable Girl   \n",
       "244  spotify:track:4T9BHDo9Bgv0xJaZsY4yNe       Nahko             Dragonfly   \n",
       "\n",
       "                     title  danceability  energy  loudness  speechiness  \\\n",
       "240   Too Good At Goodbyes         0.515   0.378    -8.264       0.0650   \n",
       "241       A Mirror Without         0.609   0.781    -7.711       0.0262   \n",
       "242  Make You Feel My Love         0.325   0.180   -10.647       0.0311   \n",
       "243          Live With You         0.403   0.793    -6.144       0.0478   \n",
       "244              Dragonfly         0.367   0.479   -12.159       0.0568   \n",
       "\n",
       "     acousticness  instrumentalness  liveness  valence    tempo  duration_ms  \\\n",
       "240         0.618          0.000000    0.1720   0.5360   91.883     201000.0   \n",
       "241         0.362          0.002180    0.0923   0.7460  104.124     278840.0   \n",
       "242         0.910          0.000633    0.1130   0.0997   72.416     212040.0   \n",
       "243         0.099          0.028700    0.1280   0.0967  147.827     207889.0   \n",
       "244         0.507          0.000184    0.3450   0.3280  177.323     285480.0   \n",
       "\n",
       "     num_played  num_rates  rate  \n",
       "240           1          1   1.0  \n",
       "241           1          9   5.0  \n",
       "242           1          1   9.0  \n",
       "243           2          1   7.0  \n",
       "244           2          5   4.6  "
      ]
     },
     "execution_count": 5,
     "metadata": {},
     "output_type": "execute_result"
    }
   ],
   "source": [
    "data.tail()"
   ]
  },
  {
   "cell_type": "code",
   "execution_count": 6,
   "metadata": {
    "collapsed": false
   },
   "outputs": [
    {
     "data": {
      "text/plain": [
       "id                  245\n",
       "artist              245\n",
       "album               245\n",
       "title               245\n",
       "danceability        245\n",
       "energy              245\n",
       "loudness            245\n",
       "speechiness         245\n",
       "acousticness        245\n",
       "instrumentalness    245\n",
       "liveness            245\n",
       "valence             245\n",
       "tempo               245\n",
       "duration_ms         245\n",
       "num_played          245\n",
       "num_rates           245\n",
       "rate                245\n",
       "dtype: int64"
      ]
     },
     "execution_count": 6,
     "metadata": {},
     "output_type": "execute_result"
    }
   ],
   "source": [
    "data.count()"
   ]
  },
  {
   "cell_type": "code",
   "execution_count": 9,
   "metadata": {
    "collapsed": false
   },
   "outputs": [
    {
     "data": {
      "text/plain": [
       "dtype('O')"
      ]
     },
     "execution_count": 9,
     "metadata": {},
     "output_type": "execute_result"
    }
   ],
   "source": [
    "data[\"id\"].dtype"
   ]
  },
  {
   "cell_type": "code",
   "execution_count": 7,
   "metadata": {
    "collapsed": false
   },
   "outputs": [
    {
     "data": {
      "text/plain": [
       "0    0.545\n",
       "1    0.495\n",
       "2    0.557\n",
       "3    0.497\n",
       "4    0.666\n",
       "Name: energy, dtype: float64"
      ]
     },
     "execution_count": 7,
     "metadata": {},
     "output_type": "execute_result"
    }
   ],
   "source": [
    "data[\"energy\"].head()"
   ]
  },
  {
   "cell_type": "code",
   "execution_count": null,
   "metadata": {
    "collapsed": true
   },
   "outputs": [],
   "source": []
  }
 ],
 "metadata": {
  "kernelspec": {
   "display_name": "Python 3",
   "language": "python",
   "name": "python3"
  },
  "language_info": {
   "codemirror_mode": {
    "name": "ipython",
    "version": 3
   },
   "file_extension": ".py",
   "mimetype": "text/x-python",
   "name": "python",
   "nbconvert_exporter": "python",
   "pygments_lexer": "ipython3",
   "version": "3.5.2"
  }
 },
 "nbformat": 4,
 "nbformat_minor": 1
}
